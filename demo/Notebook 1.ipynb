{
    "cells": [
        {
            "cell_type": "code",
            "metadata": {
                "source_hash": "4026298d",
                "execution_start": 1745496610204,
                "execution_millis": 0,
                "execution_context_id": "653eebcc-ab87-4ccc-b912-e4f8ced4ce93",
                "deepnote_app_block_order": 0,
                "deepnote_app_block_visible": true,
                "deepnote_app_block_group_id": null,
                "deepnote_app_is_code_hidden": true,
                "deepnote_app_is_output_hidden": false,
                "cell_id": "9371c4dce88e46378e5b7615cd4069cf",
                "deepnote_cell_type": "code"
            },
            "source": "print(\"Hello world!\")",
            "block_group": "b7f3b6cc53084af291d997f97cfa0bff",
            "execution_count": 7,
            "outputs": [
                {
                    "name": "stdout",
                    "text": "Hello world!\n",
                    "output_type": "stream"
                }
            ],
            "outputs_reference": "dbtable:cell_outputs/f999f7be-f442-4612-b2ca-ff1c17f5f52e",
            "content_dependencies": null
        },
        {
            "cell_type": "code",
            "metadata": {
                "source_hash": "a12e729",
                "execution_start": 1745496588267,
                "execution_millis": 729,
                "sql_integration_id": "7b61a6e6-3d3d-4e34-9e24-772565a0fd05",
                "execution_context_id": "653eebcc-ab87-4ccc-b912-e4f8ced4ce93",
                "deepnote_variable_name": "df_2",
                "deepnote_app_block_order": 1,
                "deepnote_app_block_visible": true,
                "deepnote_app_block_group_id": null,
                "deepnote_app_is_code_hidden": true,
                "deepnote_app_is_output_hidden": false,
                "cell_id": "8afe3890d0034885a6b09b10da024219",
                "deepnote_cell_type": "sql",
                "deepnote_sql_source": "SELECT * FROM default.actors LIMIT 100"
            },
            "source": "df_2 = _dntk.execute_sql(\n  'SELECT * FROM default.actors LIMIT 100',\n  'SQL_7B61A6E6_3D3D_4E34_9E24_772565A0FD05',\n  audit_sql_comment='',\n  sql_cache_mode='cache_disabled',\n  return_variable_type='dataframe'\n)\ndf_2",
            "block_group": "8cf8966b165848918712564d3d62524a",
            "execution_count": 4,
            "outputs": [
                {
                    "data": {
                        "application/vnd.deepnote.sql-output-metadata+json": {
                            "status": "success_no_cache",
                            "size_in_bytes": 75279,
                            "compiled_query": "SELECT * FROM default.actors LIMIT 100\n/* {\"app\":\"deepnote\",\"submitted_by\":\"user\",\"user_email\":\"filip.zitny@deepnote.com\",\"workspace_id\":\"8b0ebf6d-5672-4a8b-a488-2dd220383dd3\",\"project_id\":\"82e7f9be-6f67-43bd-9e5b-eeed4a78f235\",\"notebook_id\":\"31e215580d4744b7bb26af462d764bec\",\"project_url\":\"https://deepnote.com/project/82e7f9be-6f67-43bd-9e5b-eeed4a78f235\"} */",
                            "variable_type": "dataframe",
                            "integration_id": "7b61a6e6-3d3d-4e34-9e24-772565a0fd05"
                        }
                    },
                    "metadata": {},
                    "output_type": "display_data"
                },
                {
                    "output_type": "execute_result",
                    "execution_count": 4,
                    "data": {
                        "application/vnd.deepnote.dataframe.v3+json": {
                            "column_count": 17,
                            "row_count": 100,
                            "columns": [
                                {
                                    "name": "login",
                                    "dtype": "object",
                                    "stats": {
                                        "unique_count": 100,
                                        "nan_count": 0,
                                        "categories": [
                                            {
                                                "name": "0000Blaze",
                                                "count": 1
                                            },
                                            {
                                                "name": "007developforfun",
                                                "count": 1
                                            },
                                            {
                                                "name": "98 others",
                                                "count": 98
                                            }
                                        ]
                                    }
                                },
                                {
                                    "name": "type",
                                    "dtype": "object",
                                    "stats": {
                                        "unique_count": 1,
                                        "nan_count": 0,
                                        "categories": [
                                            {
                                                "name": "User",
                                                "count": 100
                                            }
                                        ]
                                    }
                                },
                                {
                                    "name": "site_admin",
                                    "dtype": "object",
                                    "stats": {
                                        "unique_count": 1,
                                        "nan_count": 0,
                                        "categories": [
                                            {
                                                "name": "false",
                                                "count": 100
                                            }
                                        ]
                                    }
                                },
                                {
                                    "name": "name",
                                    "dtype": "object",
                                    "stats": {
                                        "unique_count": 76,
                                        "nan_count": 0,
                                        "categories": [
                                            {
                                                "name": "",
                                                "count": 25
                                            },
                                            {
                                                "name": "RohanChhetry",
                                                "count": 1
                                            },
                                            {
                                                "name": "74 others",
                                                "count": 74
                                            }
                                        ]
                                    }
                                },
                                {
                                    "name": "company",
                                    "dtype": "object",
                                    "stats": {
                                        "unique_count": 22,
                                        "nan_count": 0,
                                        "categories": [
                                            {
                                                "name": "",
                                                "count": 78
                                            },
                                            {
                                                "name": "Harbin Institute of Technology",
                                                "count": 2
                                            },
                                            {
                                                "name": "20 others",
                                                "count": 20
                                            }
                                        ]
                                    }
                                },
                                {
                                    "name": "blog",
                                    "dtype": "object",
                                    "stats": {
                                        "unique_count": 24,
                                        "nan_count": 0,
                                        "categories": [
                                            {
                                                "name": "",
                                                "count": 77
                                            },
                                            {
                                                "name": "rohanchhetry.com.np",
                                                "count": 1
                                            },
                                            {
                                                "name": "22 others",
                                                "count": 22
                                            }
                                        ]
                                    }
                                },
                                {
                                    "name": "location",
                                    "dtype": "object",
                                    "stats": {
                                        "unique_count": 45,
                                        "nan_count": 0,
                                        "categories": [
                                            {
                                                "name": "",
                                                "count": 52
                                            },
                                            {
                                                "name": "Moscow",
                                                "count": 2
                                            },
                                            {
                                                "name": "43 others",
                                                "count": 46
                                            }
                                        ]
                                    }
                                },
                                {
                                    "name": "email",
                                    "dtype": "object",
                                    "stats": {
                                        "unique_count": 33,
                                        "nan_count": 0,
                                        "categories": [
                                            {
                                                "name": "",
                                                "count": 68
                                            },
                                            {
                                                "name": "yang_yapo@126.com",
                                                "count": 1
                                            },
                                            {
                                                "name": "31 others",
                                                "count": 31
                                            }
                                        ]
                                    }
                                },
                                {
                                    "name": "hireable",
                                    "dtype": "object",
                                    "stats": {
                                        "unique_count": 2,
                                        "nan_count": 0,
                                        "categories": [
                                            {
                                                "name": "false",
                                                "count": 81
                                            },
                                            {
                                                "name": "true",
                                                "count": 19
                                            }
                                        ]
                                    }
                                },
                                {
                                    "name": "bio",
                                    "dtype": "object",
                                    "stats": {
                                        "unique_count": 38,
                                        "nan_count": 0,
                                        "categories": [
                                            {
                                                "name": "",
                                                "count": 63
                                            },
                                            {
                                                "name": "Programmer, Writer and Full-Time Learner.",
                                                "count": 1
                                            },
                                            {
                                                "name": "36 others",
                                                "count": 36
                                            }
                                        ]
                                    }
                                },
                                {
                                    "name": "twitter_username",
                                    "dtype": "object",
                                    "stats": {
                                        "unique_count": 13,
                                        "nan_count": 0,
                                        "categories": [
                                            {
                                                "name": "",
                                                "count": 88
                                            },
                                            {
                                                "name": "rohanchhetry9",
                                                "count": 1
                                            },
                                            {
                                                "name": "11 others",
                                                "count": 11
                                            }
                                        ]
                                    }
                                },
                                {
                                    "name": "public_repos",
                                    "dtype": "int64",
                                    "stats": {
                                        "unique_count": 50,
                                        "nan_count": 0,
                                        "min": "0",
                                        "max": "2448",
                                        "histogram": [
                                            {
                                                "bin_start": 0,
                                                "bin_end": 244.8,
                                                "count": 95
                                            },
                                            {
                                                "bin_start": 244.8,
                                                "bin_end": 489.6,
                                                "count": 2
                                            },
                                            {
                                                "bin_start": 489.6,
                                                "bin_end": 734.4000000000001,
                                                "count": 1
                                            },
                                            {
                                                "bin_start": 734.4000000000001,
                                                "bin_end": 979.2,
                                                "count": 1
                                            },
                                            {
                                                "bin_start": 979.2,
                                                "bin_end": 1224,
                                                "count": 0
                                            },
                                            {
                                                "bin_start": 1224,
                                                "bin_end": 1468.8000000000002,
                                                "count": 0
                                            },
                                            {
                                                "bin_start": 1468.8000000000002,
                                                "bin_end": 1713.6000000000001,
                                                "count": 0
                                            },
                                            {
                                                "bin_start": 1713.6000000000001,
                                                "bin_end": 1958.4,
                                                "count": 0
                                            },
                                            {
                                                "bin_start": 1958.4,
                                                "bin_end": 2203.2000000000003,
                                                "count": 0
                                            },
                                            {
                                                "bin_start": 2203.2000000000003,
                                                "bin_end": 2448,
                                                "count": 1
                                            }
                                        ]
                                    }
                                },
                                {
                                    "name": "public_gists",
                                    "dtype": "int64",
                                    "stats": {
                                        "unique_count": 13,
                                        "nan_count": 0,
                                        "min": "0",
                                        "max": "197",
                                        "histogram": [
                                            {
                                                "bin_start": 0,
                                                "bin_end": 19.7,
                                                "count": 96
                                            },
                                            {
                                                "bin_start": 19.7,
                                                "bin_end": 39.4,
                                                "count": 3
                                            },
                                            {
                                                "bin_start": 39.4,
                                                "bin_end": 59.099999999999994,
                                                "count": 0
                                            },
                                            {
                                                "bin_start": 59.099999999999994,
                                                "bin_end": 78.8,
                                                "count": 0
                                            },
                                            {
                                                "bin_start": 78.8,
                                                "bin_end": 98.5,
                                                "count": 0
                                            },
                                            {
                                                "bin_start": 98.5,
                                                "bin_end": 118.19999999999999,
                                                "count": 0
                                            },
                                            {
                                                "bin_start": 118.19999999999999,
                                                "bin_end": 137.9,
                                                "count": 0
                                            },
                                            {
                                                "bin_start": 137.9,
                                                "bin_end": 157.6,
                                                "count": 0
                                            },
                                            {
                                                "bin_start": 157.6,
                                                "bin_end": 177.29999999999998,
                                                "count": 0
                                            },
                                            {
                                                "bin_start": 177.29999999999998,
                                                "bin_end": 197,
                                                "count": 1
                                            }
                                        ]
                                    }
                                },
                                {
                                    "name": "followers",
                                    "dtype": "int64",
                                    "stats": {
                                        "unique_count": 47,
                                        "nan_count": 0,
                                        "min": "0",
                                        "max": "980",
                                        "histogram": [
                                            {
                                                "bin_start": 0,
                                                "bin_end": 98,
                                                "count": 94
                                            },
                                            {
                                                "bin_start": 98,
                                                "bin_end": 196,
                                                "count": 2
                                            },
                                            {
                                                "bin_start": 196,
                                                "bin_end": 294,
                                                "count": 0
                                            },
                                            {
                                                "bin_start": 294,
                                                "bin_end": 392,
                                                "count": 2
                                            },
                                            {
                                                "bin_start": 392,
                                                "bin_end": 490,
                                                "count": 1
                                            },
                                            {
                                                "bin_start": 490,
                                                "bin_end": 588,
                                                "count": 0
                                            },
                                            {
                                                "bin_start": 588,
                                                "bin_end": 686,
                                                "count": 0
                                            },
                                            {
                                                "bin_start": 686,
                                                "bin_end": 784,
                                                "count": 0
                                            },
                                            {
                                                "bin_start": 784,
                                                "bin_end": 882,
                                                "count": 0
                                            },
                                            {
                                                "bin_start": 882,
                                                "bin_end": 980,
                                                "count": 1
                                            }
                                        ]
                                    }
                                },
                                {
                                    "name": "following",
                                    "dtype": "int64",
                                    "stats": {
                                        "unique_count": 52,
                                        "nan_count": 0,
                                        "min": "0",
                                        "max": "625",
                                        "histogram": [
                                            {
                                                "bin_start": 0,
                                                "bin_end": 62.5,
                                                "count": 79
                                            },
                                            {
                                                "bin_start": 62.5,
                                                "bin_end": 125,
                                                "count": 8
                                            },
                                            {
                                                "bin_start": 125,
                                                "bin_end": 187.5,
                                                "count": 5
                                            },
                                            {
                                                "bin_start": 187.5,
                                                "bin_end": 250,
                                                "count": 1
                                            },
                                            {
                                                "bin_start": 250,
                                                "bin_end": 312.5,
                                                "count": 1
                                            },
                                            {
                                                "bin_start": 312.5,
                                                "bin_end": 375,
                                                "count": 2
                                            },
                                            {
                                                "bin_start": 375,
                                                "bin_end": 437.5,
                                                "count": 1
                                            },
                                            {
                                                "bin_start": 437.5,
                                                "bin_end": 500,
                                                "count": 0
                                            },
                                            {
                                                "bin_start": 500,
                                                "bin_end": 562.5,
                                                "count": 0
                                            },
                                            {
                                                "bin_start": 562.5,
                                                "bin_end": 625,
                                                "count": 3
                                            }
                                        ]
                                    }
                                },
                                {
                                    "name": "created_at",
                                    "dtype": "datetime64[ns]",
                                    "stats": {
                                        "unique_count": 100,
                                        "nan_count": 0,
                                        "min": "2009-04-29 03:15:30",
                                        "max": "2023-04-09 08:25:52",
                                        "histogram": [
                                            {
                                                "bin_start": 1240974930000000000,
                                                "bin_end": 1284980312200000000,
                                                "count": 5
                                            },
                                            {
                                                "bin_start": 1284980312200000000,
                                                "bin_end": 1328985694400000000,
                                                "count": 4
                                            },
                                            {
                                                "bin_start": 1328985694400000000,
                                                "bin_end": 1372991076600000000,
                                                "count": 8
                                            },
                                            {
                                                "bin_start": 1372991076600000000,
                                                "bin_end": 1416996458800000000,
                                                "count": 11
                                            },
                                            {
                                                "bin_start": 1416996458800000000,
                                                "bin_end": 1461001841000000000,
                                                "count": 14
                                            },
                                            {
                                                "bin_start": 1461001841000000000,
                                                "bin_end": 1505007223200000000,
                                                "count": 19
                                            },
                                            {
                                                "bin_start": 1505007223200000000,
                                                "bin_end": 1549012605400000000,
                                                "count": 13
                                            },
                                            {
                                                "bin_start": 1549012605400000000,
                                                "bin_end": 1593017987600000000,
                                                "count": 15
                                            },
                                            {
                                                "bin_start": 1593017987600000000,
                                                "bin_end": 1637023369800000000,
                                                "count": 7
                                            },
                                            {
                                                "bin_start": 1637023369800000000,
                                                "bin_end": 1681028752000000000,
                                                "count": 4
                                            }
                                        ]
                                    }
                                },
                                {
                                    "name": "updated_at",
                                    "dtype": "datetime64[ns]",
                                    "stats": {
                                        "unique_count": 100,
                                        "nan_count": 0,
                                        "min": "2021-05-01 04:02:08",
                                        "max": "2023-08-05 14:17:11",
                                        "histogram": [
                                            {
                                                "bin_start": 1619841728000000000,
                                                "bin_end": 1626982058300000000,
                                                "count": 2
                                            },
                                            {
                                                "bin_start": 1626982058300000000,
                                                "bin_end": 1634122388600000000,
                                                "count": 3
                                            },
                                            {
                                                "bin_start": 1634122388600000000,
                                                "bin_end": 1641262718900000000,
                                                "count": 1
                                            },
                                            {
                                                "bin_start": 1641262718900000000,
                                                "bin_end": 1648403049200000000,
                                                "count": 2
                                            },
                                            {
                                                "bin_start": 1648403049200000000,
                                                "bin_end": 1655543379500000000,
                                                "count": 2
                                            },
                                            {
                                                "bin_start": 1655543379500000000,
                                                "bin_end": 1662683709800000000,
                                                "count": 5
                                            },
                                            {
                                                "bin_start": 1662683709800000000,
                                                "bin_end": 1669824040100000000,
                                                "count": 3
                                            },
                                            {
                                                "bin_start": 1669824040100000000,
                                                "bin_end": 1676964370400000000,
                                                "count": 3
                                            },
                                            {
                                                "bin_start": 1676964370400000000,
                                                "bin_end": 1684104700700000000,
                                                "count": 12
                                            },
                                            {
                                                "bin_start": 1684104700700000000,
                                                "bin_end": 1691245031000000000,
                                                "count": 67
                                            }
                                        ]
                                    }
                                },
                                {
                                    "name": "_deepnote_index_column",
                                    "dtype": "int64"
                                }
                            ],
                            "rows": [
                                {
                                    "login": "0000Blaze",
                                    "type": "User",
                                    "site_admin": "false",
                                    "name": "RohanChhetry",
                                    "company": "Pulchowk Campus,IOE",
                                    "blog": "rohanchhetry.com.np",
                                    "location": "Sanepa , Lalitpur",
                                    "email": "",
                                    "hireable": "true",
                                    "bio": "",
                                    "twitter_username": "rohanchhetry9",
                                    "public_repos": 56,
                                    "public_gists": 0,
                                    "followers": 57,
                                    "following": 83,
                                    "created_at": "2019-02-24 02:31:21",
                                    "updated_at": "2023-07-30 11:30:14",
                                    "_deepnote_index_column": 0
                                },
                                {
                                    "login": "007developforfun",
                                    "type": "User",
                                    "site_admin": "false",
                                    "name": "",
                                    "company": "",
                                    "blog": "",
                                    "location": "",
                                    "email": "",
                                    "hireable": "false",
                                    "bio": "",
                                    "twitter_username": "",
                                    "public_repos": 0,
                                    "public_gists": 0,
                                    "followers": 0,
                                    "following": 0,
                                    "created_at": "2015-08-07 11:28:01",
                                    "updated_at": "2022-08-12 08:45:30",
                                    "_deepnote_index_column": 1
                                },
                                {
                                    "login": "00arthur00",
                                    "type": "User",
                                    "site_admin": "false",
                                    "name": "Arthur",
                                    "company": "",
                                    "blog": "",
                                    "location": "Beijing, China",
                                    "email": "yang_yapo@126.com",
                                    "hireable": "false",
                                    "bio": "",
                                    "twitter_username": "",
                                    "public_repos": 72,
                                    "public_gists": 1,
                                    "followers": 5,
                                    "following": 61,
                                    "created_at": "2017-04-01 13:37:01",
                                    "updated_at": "2023-06-15 14:50:12",
                                    "_deepnote_index_column": 2
                                },
                                {
                                    "login": "010001",
                                    "type": "User",
                                    "site_admin": "false",
                                    "name": "",
                                    "company": "",
                                    "blog": "",
                                    "location": "",
                                    "email": "1025394547@qq.com",
                                    "hireable": "false",
                                    "bio": "",
                                    "twitter_username": "",
                                    "public_repos": 15,
                                    "public_gists": 0,
                                    "followers": 1,
                                    "following": 1,
                                    "created_at": "2015-02-05 03:11:59",
                                    "updated_at": "2023-03-17 06:07:01",
                                    "_deepnote_index_column": 3
                                },
                                {
                                    "login": "01001101ilad",
                                    "type": "User",
                                    "site_admin": "false",
                                    "name": "Milad",
                                    "company": "",
                                    "blog": "",
                                    "location": "",
                                    "email": "",
                                    "hireable": "false",
                                    "bio": "Programmer, Writer and Full-Time Learner.",
                                    "twitter_username": "",
                                    "public_repos": 10,
                                    "public_gists": 0,
                                    "followers": 0,
                                    "following": 0,
                                    "created_at": "2016-10-31 19:12:55",
                                    "updated_at": "2023-07-24 11:43:03",
                                    "_deepnote_index_column": 4
                                },
                                {
                                    "login": "010227leo",
                                    "type": "User",
                                    "site_admin": "false",
                                    "name": "zucker",
                                    "company": "trip.com",
                                    "blog": "",
                                    "location": "Shanghai, China",
                                    "email": "",
                                    "hireable": "false",
                                    "bio": "",
                                    "twitter_username": "",
                                    "public_repos": 2,
                                    "public_gists": 1,
                                    "followers": 7,
                                    "following": 11,
                                    "created_at": "2012-01-11 06:23:15",
                                    "updated_at": "2023-07-24 03:35:26",
                                    "_deepnote_index_column": 5
                                },
                                {
                                    "login": "010ric",
                                    "type": "User",
                                    "site_admin": "false",
                                    "name": "Mario Turic",
                                    "company": "",
                                    "blog": "",
                                    "location": "Munich",
                                    "email": "",
                                    "hireable": "true",
                                    "bio": "Enthusiast and Maker",
                                    "twitter_username": "",
                                    "public_repos": 19,
                                    "public_gists": 0,
                                    "followers": 23,
                                    "following": 68,
                                    "created_at": "2017-10-27 14:00:07",
                                    "updated_at": "2023-08-04 18:44:35",
                                    "_deepnote_index_column": 6
                                },
                                {
                                    "login": "01egen",
                                    "type": "User",
                                    "site_admin": "false",
                                    "name": "",
                                    "company": "",
                                    "blog": "",
                                    "location": "",
                                    "email": "",
                                    "hireable": "false",
                                    "bio": "",
                                    "twitter_username": "",
                                    "public_repos": 1,
                                    "public_gists": 0,
                                    "followers": 0,
                                    "following": 2,
                                    "created_at": "2019-02-27 08:59:00",
                                    "updated_at": "2023-06-20 04:02:51",
                                    "_deepnote_index_column": 7
                                },
                                {
                                    "login": "0400H",
                                    "type": "User",
                                    "site_admin": "false",
                                    "name": "0400H",
                                    "company": "",
                                    "blog": "",
                                    "location": "Shanghai",
                                    "email": "git@0400h.cn",
                                    "hireable": "true",
                                    "bio": "HPC & MLSys & PPML",
                                    "twitter_username": "",
                                    "public_repos": 17,
                                    "public_gists": 0,
                                    "followers": 3,
                                    "following": 42,
                                    "created_at": "2015-12-20 17:38:00",
                                    "updated_at": "2023-07-21 11:28:22",
                                    "_deepnote_index_column": 8
                                },
                                {
                                    "login": "0442A403",
                                    "type": "User",
                                    "site_admin": "false",
                                    "name": "Damir Petrov",
                                    "company": "",
                                    "blog": "",
                                    "location": "Moscow",
                                    "email": "petrovdamir2235@gmail.com",
                                    "hireable": "false",
                                    "bio": "HSE student",
                                    "twitter_username": "",
                                    "public_repos": 19,
                                    "public_gists": 0,
                                    "followers": 15,
                                    "following": 30,
                                    "created_at": "2016-11-05 18:59:38",
                                    "updated_at": "2023-06-22 06:08:50",
                                    "_deepnote_index_column": 9
                                }
                            ],
                            "type": "dataframe"
                        },
                        "text/plain": "               login  type site_admin           name              company  \\\n0          0000Blaze  User      false   RohanChhetry  Pulchowk Campus,IOE   \n1   007developforfun  User      false                                       \n2         00arthur00  User      false         Arthur                        \n3             010001  User      false                                       \n4       01001101ilad  User      false          Milad                        \n..               ...   ...        ...            ...                  ...   \n95        1332498780  User      false    huangzhuyun               haohan   \n96        1340691923  User      false             肖文                        \n97       13567436138  User      false  huangxiaoping                        \n98        1370378301  User      false                                       \n99        1372143376  User      false    weixiaopeng                        \n\n                      blog           location              email hireable  \\\n0      rohanchhetry.com.np  Sanepa , Lalitpur                        true   \n1                                                                   false   \n2                              Beijing, China  yang_yapo@126.com    false   \n3                                              1025394547@qq.com    false   \n4                                                                   false   \n..                     ...                ...                ...      ...   \n95                              BeiJing China                       false   \n96                                       湖南长沙                       false   \n97  blog.csdn.net/hxpjava1              china                       false   \n98                                                                  false   \n99  http://tools.wxpeng.cn                 北京  1372143376@qq.com    false   \n\n                                          bio twitter_username  public_repos  \\\n0                                                rohanchhetry9            56   \n1                                                                          0   \n2                                                                         72   \n3                                                                         15   \n4   Programmer, Writer and Full-Time Learner.                             10   \n..                                        ...              ...           ...   \n95                              a new person.                             29   \n96                                       代码有价                             53   \n97                                    engneer                            260   \n98                                                                         3   \n99                                       奔沙拉卡                              4   \n\n    public_gists  followers  following          created_at          updated_at  \n0              0         57         83 2019-02-24 02:31:21 2023-07-30 11:30:14  \n1              0          0          0 2015-08-07 11:28:01 2022-08-12 08:45:30  \n2              1          5         61 2017-04-01 13:37:01 2023-06-15 14:50:12  \n3              0          1          1 2015-02-05 03:11:59 2023-03-17 06:07:01  \n4              0          0          0 2016-10-31 19:12:55 2023-07-24 11:43:03  \n..           ...        ...        ...                 ...                 ...  \n95             0          2          1 2016-08-25 04:42:50 2023-05-24 14:04:40  \n96             0         42         16 2018-04-15 11:10:39 2023-07-14 02:18:58  \n97             1         27         46 2017-08-31 11:31:03 2023-04-08 04:59:33  \n98             9          9         98 2018-11-22 14:29:13 2023-06-23 16:40:50  \n99             0          2          9 2017-01-26 06:42:58 2023-05-29 12:14:49  \n\n[100 rows x 17 columns]",
                        "text/html": "<div>\n<style scoped>\n    .dataframe tbody tr th:only-of-type {\n        vertical-align: middle;\n    }\n\n    .dataframe tbody tr th {\n        vertical-align: top;\n    }\n\n    .dataframe thead th {\n        text-align: right;\n    }\n</style>\n<table border=\"1\" class=\"dataframe\">\n  <thead>\n    <tr style=\"text-align: right;\">\n      <th></th>\n      <th>login</th>\n      <th>type</th>\n      <th>site_admin</th>\n      <th>name</th>\n      <th>company</th>\n      <th>blog</th>\n      <th>location</th>\n      <th>email</th>\n      <th>hireable</th>\n      <th>bio</th>\n      <th>twitter_username</th>\n      <th>public_repos</th>\n      <th>public_gists</th>\n      <th>followers</th>\n      <th>following</th>\n      <th>created_at</th>\n      <th>updated_at</th>\n    </tr>\n  </thead>\n  <tbody>\n    <tr>\n      <th>0</th>\n      <td>0000Blaze</td>\n      <td>User</td>\n      <td>false</td>\n      <td>RohanChhetry</td>\n      <td>Pulchowk Campus,IOE</td>\n      <td>rohanchhetry.com.np</td>\n      <td>Sanepa , Lalitpur</td>\n      <td></td>\n      <td>true</td>\n      <td></td>\n      <td>rohanchhetry9</td>\n      <td>56</td>\n      <td>0</td>\n      <td>57</td>\n      <td>83</td>\n      <td>2019-02-24 02:31:21</td>\n      <td>2023-07-30 11:30:14</td>\n    </tr>\n    <tr>\n      <th>1</th>\n      <td>007developforfun</td>\n      <td>User</td>\n      <td>false</td>\n      <td></td>\n      <td></td>\n      <td></td>\n      <td></td>\n      <td></td>\n      <td>false</td>\n      <td></td>\n      <td></td>\n      <td>0</td>\n      <td>0</td>\n      <td>0</td>\n      <td>0</td>\n      <td>2015-08-07 11:28:01</td>\n      <td>2022-08-12 08:45:30</td>\n    </tr>\n    <tr>\n      <th>2</th>\n      <td>00arthur00</td>\n      <td>User</td>\n      <td>false</td>\n      <td>Arthur</td>\n      <td></td>\n      <td></td>\n      <td>Beijing, China</td>\n      <td>yang_yapo@126.com</td>\n      <td>false</td>\n      <td></td>\n      <td></td>\n      <td>72</td>\n      <td>1</td>\n      <td>5</td>\n      <td>61</td>\n      <td>2017-04-01 13:37:01</td>\n      <td>2023-06-15 14:50:12</td>\n    </tr>\n    <tr>\n      <th>3</th>\n      <td>010001</td>\n      <td>User</td>\n      <td>false</td>\n      <td></td>\n      <td></td>\n      <td></td>\n      <td></td>\n      <td>1025394547@qq.com</td>\n      <td>false</td>\n      <td></td>\n      <td></td>\n      <td>15</td>\n      <td>0</td>\n      <td>1</td>\n      <td>1</td>\n      <td>2015-02-05 03:11:59</td>\n      <td>2023-03-17 06:07:01</td>\n    </tr>\n    <tr>\n      <th>4</th>\n      <td>01001101ilad</td>\n      <td>User</td>\n      <td>false</td>\n      <td>Milad</td>\n      <td></td>\n      <td></td>\n      <td></td>\n      <td></td>\n      <td>false</td>\n      <td>Programmer, Writer and Full-Time Learner.</td>\n      <td></td>\n      <td>10</td>\n      <td>0</td>\n      <td>0</td>\n      <td>0</td>\n      <td>2016-10-31 19:12:55</td>\n      <td>2023-07-24 11:43:03</td>\n    </tr>\n    <tr>\n      <th>...</th>\n      <td>...</td>\n      <td>...</td>\n      <td>...</td>\n      <td>...</td>\n      <td>...</td>\n      <td>...</td>\n      <td>...</td>\n      <td>...</td>\n      <td>...</td>\n      <td>...</td>\n      <td>...</td>\n      <td>...</td>\n      <td>...</td>\n      <td>...</td>\n      <td>...</td>\n      <td>...</td>\n      <td>...</td>\n    </tr>\n    <tr>\n      <th>95</th>\n      <td>1332498780</td>\n      <td>User</td>\n      <td>false</td>\n      <td>huangzhuyun</td>\n      <td>haohan</td>\n      <td></td>\n      <td>BeiJing China</td>\n      <td></td>\n      <td>false</td>\n      <td>a new person.</td>\n      <td></td>\n      <td>29</td>\n      <td>0</td>\n      <td>2</td>\n      <td>1</td>\n      <td>2016-08-25 04:42:50</td>\n      <td>2023-05-24 14:04:40</td>\n    </tr>\n    <tr>\n      <th>96</th>\n      <td>1340691923</td>\n      <td>User</td>\n      <td>false</td>\n      <td>肖文</td>\n      <td></td>\n      <td></td>\n      <td>湖南长沙</td>\n      <td></td>\n      <td>false</td>\n      <td>代码有价</td>\n      <td></td>\n      <td>53</td>\n      <td>0</td>\n      <td>42</td>\n      <td>16</td>\n      <td>2018-04-15 11:10:39</td>\n      <td>2023-07-14 02:18:58</td>\n    </tr>\n    <tr>\n      <th>97</th>\n      <td>13567436138</td>\n      <td>User</td>\n      <td>false</td>\n      <td>huangxiaoping</td>\n      <td></td>\n      <td>blog.csdn.net/hxpjava1</td>\n      <td>china</td>\n      <td></td>\n      <td>false</td>\n      <td>engneer</td>\n      <td></td>\n      <td>260</td>\n      <td>1</td>\n      <td>27</td>\n      <td>46</td>\n      <td>2017-08-31 11:31:03</td>\n      <td>2023-04-08 04:59:33</td>\n    </tr>\n    <tr>\n      <th>98</th>\n      <td>1370378301</td>\n      <td>User</td>\n      <td>false</td>\n      <td></td>\n      <td></td>\n      <td></td>\n      <td></td>\n      <td></td>\n      <td>false</td>\n      <td></td>\n      <td></td>\n      <td>3</td>\n      <td>9</td>\n      <td>9</td>\n      <td>98</td>\n      <td>2018-11-22 14:29:13</td>\n      <td>2023-06-23 16:40:50</td>\n    </tr>\n    <tr>\n      <th>99</th>\n      <td>1372143376</td>\n      <td>User</td>\n      <td>false</td>\n      <td>weixiaopeng</td>\n      <td></td>\n      <td>http://tools.wxpeng.cn</td>\n      <td>北京</td>\n      <td>1372143376@qq.com</td>\n      <td>false</td>\n      <td>奔沙拉卡</td>\n      <td></td>\n      <td>4</td>\n      <td>0</td>\n      <td>2</td>\n      <td>9</td>\n      <td>2017-01-26 06:42:58</td>\n      <td>2023-05-29 12:14:49</td>\n    </tr>\n  </tbody>\n</table>\n<p>100 rows × 17 columns</p>\n</div>"
                    },
                    "metadata": {}
                }
            ],
            "outputs_reference": "s3:deepnote-cell-outputs-production/968aea06-eff5-48de-9440-03aacbb07093",
            "content_dependencies": null
        },
        {
            "cell_type": "code",
            "metadata": {
                "source_hash": "b440afce",
                "execution_start": 1745496781724,
                "execution_millis": 0,
                "deepnote_input_label": "Select big number",
                "deepnote_slider_step": 1,
                "execution_context_id": "653eebcc-ab87-4ccc-b912-e4f8ced4ce93",
                "deepnote_variable_name": "select_big_number",
                "deepnote_variable_value": "5",
                "deepnote_app_block_order": 2,
                "deepnote_slider_max_value": 10,
                "deepnote_slider_min_value": 0,
                "deepnote_app_block_visible": true,
                "deepnote_app_block_group_id": null,
                "cell_id": "9519f2a95a494f6fbe017dd5b0867fd8",
                "deepnote_cell_type": "input-slider"
            },
            "source": "select_big_number = 5",
            "block_group": "44f2bbd5e1e1411eb2e652616300afea",
            "execution_count": 58,
            "outputs": [],
            "outputs_reference": null
        },
        {
            "cell_type": "code",
            "metadata": {
                "source_hash": "37ce1546",
                "execution_start": 1745496783783,
                "execution_millis": 2,
                "execution_context_id": "653eebcc-ab87-4ccc-b912-e4f8ced4ce93",
                "function_export_name": "number",
                "deepnote_app_block_order": 3,
                "deepnote_app_block_visible": true,
                "deepnote_app_block_group_id": null,
                "deepnote_app_is_code_hidden": true,
                "deepnote_app_is_output_hidden": false,
                "cell_id": "be799b368a1344fdabb791c79cb20e2d",
                "deepnote_cell_type": "code"
            },
            "source": "number = select_big_number",
            "block_group": "c1e2b6c6511a4ce3b24148a1f9a66e03",
            "execution_count": 61,
            "outputs": [],
            "outputs_reference": null,
            "content_dependencies": null
        },
        {
            "cell_type": "code",
            "metadata": {
                "source_hash": "d6737f7e",
                "execution_start": 1745496784684,
                "execution_millis": 0,
                "execution_context_id": "653eebcc-ab87-4ccc-b912-e4f8ced4ce93",
                "deepnote_app_block_order": 4,
                "deepnote_big_number_title": "Big number",
                "deepnote_big_number_value": "number",
                "deepnote_app_block_visible": true,
                "deepnote_big_number_format": "number",
                "deepnote_app_block_group_id": null,
                "deepnote_big_number_comparison_type": "",
                "deepnote_big_number_comparison_title": "",
                "deepnote_big_number_comparison_value": "",
                "deepnote_big_number_comparison_format": "",
                "deepnote_big_number_comparison_enabled": false,
                "cell_id": "3688787bb4a34a5fb0accc0f738e5ce8",
                "deepnote_cell_type": "big-number"
            },
            "source": "\ndef __deepnote_big_number__():\n    import json\n    import jinja2\n    from jinja2 import meta\n\n    def render_template(template):\n        parsed_content = jinja2.Environment().parse(template)\n\n        required_variables = meta.find_undeclared_variables(parsed_content)\n\n        context = {\n            variable_name: globals().get(variable_name)\n            for variable_name in required_variables\n        }\n\n        result = jinja2.Environment().from_string(template).render(context)\n\n        return result\n\n    rendered_title = render_template(\"Big number\")\n    rendered_comparison_title = render_template(\"\")\n\n    return json.dumps({\n        \"comparisonTitle\": rendered_comparison_title,\n        \"comparisonValue\": \"\",\n        \"title\": rendered_title,\n        \"value\": f\"{number}\"\n    })\n\n__deepnote_big_number__()\n",
            "block_group": "746dedf786c94dd7b692773c9d246ba5",
            "execution_count": 64,
            "outputs": [
                {
                    "output_type": "execute_result",
                    "execution_count": 64,
                    "data": {
                        "text/plain": "'{\"comparisonTitle\": \"\", \"comparisonValue\": \"\", \"title\": \"Big number\", \"value\": \"5\"}'"
                    },
                    "metadata": {}
                }
            ],
            "outputs_reference": "dbtable:cell_outputs/98e00b4c-b003-4a44-ac35-c1d5f60a1009"
        },
        {
            "cell_type": "code",
            "metadata": {
                "source_hash": "f21c1b10",
                "execution_start": 1745496648218,
                "execution_millis": 13,
                "execution_context_id": "653eebcc-ab87-4ccc-b912-e4f8ced4ce93",
                "deepnote_variable_name": "df_2",
                "deepnote_app_block_order": 5,
                "deepnote_config_collapsed": true,
                "deepnote_app_block_visible": true,
                "deepnote_app_block_group_id": null,
                "deepnote_visualization_spec": {
                    "layer": [
                        {
                            "layer": [
                                {
                                    "layer": [
                                        {
                                            "mark": {
                                                "clip": true,
                                                "type": "bar",
                                                "color": "#2266D3",
                                                "tooltip": true
                                            },
                                            "encoding": {
                                                "x": {
                                                    "axis": {
                                                        "grid": false,
                                                        "title": "Created date"
                                                    },
                                                    "sort": "ascending",
                                                    "type": "temporal",
                                                    "field": "created_at",
                                                    "scale": {
                                                        "type": "linear"
                                                    },
                                                    "timeUnit": "yearmonth",
                                                    "bandPosition": 0
                                                },
                                                "y": {
                                                    "axis": {
                                                        "title": "Number of repositories",
                                                        "format": {
                                                            "type": "default",
                                                            "decimals": null
                                                        },
                                                        "formatType": "numberFormatFromNumberType"
                                                    },
                                                    "type": "quantitative",
                                                    "field": "public_repos",
                                                    "scale": {
                                                        "type": "linear"
                                                    },
                                                    "format": {
                                                        "type": "default",
                                                        "decimals": null
                                                    },
                                                    "aggregate": "sum",
                                                    "formatType": "numberFormatFromNumberType"
                                                },
                                                "color": {
                                                    "type": "nominal",
                                                    "datum": "Public repositories",
                                                    "scale": {
                                                        "range": [
                                                            "#2266D3"
                                                        ],
                                                        "domain": [
                                                            "Public repositories"
                                                        ]
                                                    }
                                                },
                                                "xOffset": {
                                                    "datum": "series_0"
                                                }
                                            },
                                            "transform": []
                                        }
                                    ]
                                }
                            ],
                            "resolve": {
                                "scale": {
                                    "color": "independent"
                                }
                            }
                        }
                    ],
                    "title": "Public repositories over time",
                    "config": {
                        "legend": {
                            "disable": false
                        }
                    },
                    "$schema": "https://vega.github.io/schema/vega-lite/v5.json",
                    "encoding": {},
                    "usermeta": {
                        "seriesNames": [
                            "Public repositories"
                        ],
                        "seriesOrder": [
                            0
                        ],
                        "specSchemaVersion": 2,
                        "tooltipDefaultMode": true
                    }
                },
                "cell_id": "723fb6f6b20b44c99232f6e47810678c",
                "deepnote_cell_type": "visualization"
            },
            "source": "_dntk.DeepnoteChart(df_2, \"\"\"{\"layer\":[{\"layer\":[{\"layer\":[{\"mark\":{\"clip\":true,\"type\":\"bar\",\"color\":\"#2266D3\",\"tooltip\":true},\"encoding\":{\"x\":{\"axis\":{\"grid\":false,\"title\":\"Created date\"},\"sort\":\"ascending\",\"type\":\"temporal\",\"field\":\"created_at\",\"scale\":{\"type\":\"linear\"},\"timeUnit\":\"yearmonth\",\"bandPosition\":0},\"y\":{\"axis\":{\"title\":\"Number of repositories\",\"format\":{\"type\":\"default\",\"decimals\":null},\"formatType\":\"numberFormatFromNumberType\"},\"type\":\"quantitative\",\"field\":\"public_repos\",\"scale\":{\"type\":\"linear\"},\"format\":{\"type\":\"default\",\"decimals\":null},\"aggregate\":\"sum\",\"formatType\":\"numberFormatFromNumberType\"},\"color\":{\"type\":\"nominal\",\"datum\":\"Public repositories\",\"scale\":{\"range\":[\"#2266D3\"],\"domain\":[\"Public repositories\"]}},\"xOffset\":{\"datum\":\"series_0\"}},\"transform\":[]}]}],\"resolve\":{\"scale\":{\"color\":\"independent\"}}}],\"title\":\"Public repositories over time\",\"config\":{\"legend\":{\"disable\":false}},\"$schema\":\"https://vega.github.io/schema/vega-lite/v5.json\",\"encoding\":{},\"usermeta\":{\"seriesNames\":[\"Public repositories\"],\"seriesOrder\":[0],\"specSchemaVersion\":2,\"tooltipDefaultMode\":true}}\"\"\")",
            "block_group": "86a5cd66248c4ffdaf1d3994c8a9c925",
            "execution_count": 13,
            "outputs": [
                {
                    "output_type": "execute_result",
                    "execution_count": 13,
                    "data": {
                        "application/vnd.vegalite.v5+json": {
                            "layer": [
                                {
                                    "layer": [
                                        {
                                            "layer": [
                                                {
                                                    "mark": {
                                                        "clip": true,
                                                        "type": "bar",
                                                        "color": "#2266D3",
                                                        "tooltip": true
                                                    },
                                                    "encoding": {
                                                        "x": {
                                                            "axis": {
                                                                "grid": false,
                                                                "title": "Created date"
                                                            },
                                                            "sort": "ascending",
                                                            "type": "temporal",
                                                            "field": "created_at",
                                                            "scale": {
                                                                "type": "linear"
                                                            },
                                                            "timeUnit": "yearmonth",
                                                            "bandPosition": 0
                                                        },
                                                        "y": {
                                                            "axis": {
                                                                "title": "Number of repositories",
                                                                "format": {
                                                                    "type": "default",
                                                                    "decimals": null
                                                                },
                                                                "formatType": "numberFormatFromNumberType"
                                                            },
                                                            "type": "quantitative",
                                                            "field": "public_repos",
                                                            "scale": {
                                                                "type": "linear"
                                                            },
                                                            "format": {
                                                                "type": "default",
                                                                "decimals": null
                                                            },
                                                            "aggregate": "sum",
                                                            "formatType": "numberFormatFromNumberType"
                                                        },
                                                        "color": {
                                                            "type": "nominal",
                                                            "datum": "Public repositories",
                                                            "scale": {
                                                                "range": [
                                                                    "#2266D3"
                                                                ],
                                                                "domain": [
                                                                    "Public repositories"
                                                                ]
                                                            }
                                                        },
                                                        "xOffset": {
                                                            "datum": "series_0"
                                                        }
                                                    },
                                                    "transform": []
                                                }
                                            ]
                                        }
                                    ],
                                    "resolve": {
                                        "scale": {
                                            "color": "independent"
                                        }
                                    }
                                }
                            ],
                            "title": "Public repositories over time",
                            "config": {
                                "legend": {
                                    "disable": false
                                }
                            },
                            "$schema": "https://vega.github.io/schema/vega-lite/v5.json",
                            "encoding": {},
                            "usermeta": {
                                "seriesNames": [
                                    "Public repositories"
                                ],
                                "seriesOrder": [
                                    0
                                ],
                                "specSchemaVersion": 2,
                                "tooltipDefaultMode": true
                            },
                            "data": {
                                "values": [
                                    {
                                        "login": "0000Blaze",
                                        "type": "User",
                                        "site_admin": "false",
                                        "name": "RohanChhetry",
                                        "company": "Pulchowk Campus,IOE",
                                        "blog": "rohanchhetry.com.np",
                                        "location": "Sanepa , Lalitpur",
                                        "email": "",
                                        "hireable": "true",
                                        "bio": "",
                                        "twitter_username": "rohanchhetry9",
                                        "public_repos": 56,
                                        "public_gists": 0,
                                        "followers": 57,
                                        "following": 83,
                                        "created_at": "2019-02-24T02:31:21",
                                        "updated_at": "2023-07-30T11:30:14"
                                    },
                                    {
                                        "login": "007developforfun",
                                        "type": "User",
                                        "site_admin": "false",
                                        "name": "",
                                        "company": "",
                                        "blog": "",
                                        "location": "",
                                        "email": "",
                                        "hireable": "false",
                                        "bio": "",
                                        "twitter_username": "",
                                        "public_repos": 0,
                                        "public_gists": 0,
                                        "followers": 0,
                                        "following": 0,
                                        "created_at": "2015-08-07T11:28:01",
                                        "updated_at": "2022-08-12T08:45:30"
                                    },
                                    {
                                        "login": "00arthur00",
                                        "type": "User",
                                        "site_admin": "false",
                                        "name": "Arthur",
                                        "company": "",
                                        "blog": "",
                                        "location": "Beijing, China",
                                        "email": "yang_yapo@126.com",
                                        "hireable": "false",
                                        "bio": "",
                                        "twitter_username": "",
                                        "public_repos": 72,
                                        "public_gists": 1,
                                        "followers": 5,
                                        "following": 61,
                                        "created_at": "2017-04-01T13:37:01",
                                        "updated_at": "2023-06-15T14:50:12"
                                    },
                                    {
                                        "login": "010001",
                                        "type": "User",
                                        "site_admin": "false",
                                        "name": "",
                                        "company": "",
                                        "blog": "",
                                        "location": "",
                                        "email": "1025394547@qq.com",
                                        "hireable": "false",
                                        "bio": "",
                                        "twitter_username": "",
                                        "public_repos": 15,
                                        "public_gists": 0,
                                        "followers": 1,
                                        "following": 1,
                                        "created_at": "2015-02-05T03:11:59",
                                        "updated_at": "2023-03-17T06:07:01"
                                    },
                                    {
                                        "login": "01001101ilad",
                                        "type": "User",
                                        "site_admin": "false",
                                        "name": "Milad",
                                        "company": "",
                                        "blog": "",
                                        "location": "",
                                        "email": "",
                                        "hireable": "false",
                                        "bio": "Programmer, Writer and Full-Time Learner.",
                                        "twitter_username": "",
                                        "public_repos": 10,
                                        "public_gists": 0,
                                        "followers": 0,
                                        "following": 0,
                                        "created_at": "2016-10-31T19:12:55",
                                        "updated_at": "2023-07-24T11:43:03"
                                    },
                                    {
                                        "login": "010227leo",
                                        "type": "User",
                                        "site_admin": "false",
                                        "name": "zucker",
                                        "company": "trip.com",
                                        "blog": "",
                                        "location": "Shanghai, China",
                                        "email": "",
                                        "hireable": "false",
                                        "bio": "",
                                        "twitter_username": "",
                                        "public_repos": 2,
                                        "public_gists": 1,
                                        "followers": 7,
                                        "following": 11,
                                        "created_at": "2012-01-11T06:23:15",
                                        "updated_at": "2023-07-24T03:35:26"
                                    },
                                    {
                                        "login": "010ric",
                                        "type": "User",
                                        "site_admin": "false",
                                        "name": "Mario Turic",
                                        "company": "",
                                        "blog": "",
                                        "location": "Munich",
                                        "email": "",
                                        "hireable": "true",
                                        "bio": "Enthusiast and Maker",
                                        "twitter_username": "",
                                        "public_repos": 19,
                                        "public_gists": 0,
                                        "followers": 23,
                                        "following": 68,
                                        "created_at": "2017-10-27T14:00:07",
                                        "updated_at": "2023-08-04T18:44:35"
                                    },
                                    {
                                        "login": "01egen",
                                        "type": "User",
                                        "site_admin": "false",
                                        "name": "",
                                        "company": "",
                                        "blog": "",
                                        "location": "",
                                        "email": "",
                                        "hireable": "false",
                                        "bio": "",
                                        "twitter_username": "",
                                        "public_repos": 1,
                                        "public_gists": 0,
                                        "followers": 0,
                                        "following": 2,
                                        "created_at": "2019-02-27T08:59:00",
                                        "updated_at": "2023-06-20T04:02:51"
                                    },
                                    {
                                        "login": "0400H",
                                        "type": "User",
                                        "site_admin": "false",
                                        "name": "0400H",
                                        "company": "",
                                        "blog": "",
                                        "location": "Shanghai",
                                        "email": "git@0400h.cn",
                                        "hireable": "true",
                                        "bio": "HPC & MLSys & PPML",
                                        "twitter_username": "",
                                        "public_repos": 17,
                                        "public_gists": 0,
                                        "followers": 3,
                                        "following": 42,
                                        "created_at": "2015-12-20T17:38:00",
                                        "updated_at": "2023-07-21T11:28:22"
                                    },
                                    {
                                        "login": "0442A403",
                                        "type": "User",
                                        "site_admin": "false",
                                        "name": "Damir Petrov",
                                        "company": "",
                                        "blog": "",
                                        "location": "Moscow",
                                        "email": "petrovdamir2235@gmail.com",
                                        "hireable": "false",
                                        "bio": "HSE student",
                                        "twitter_username": "",
                                        "public_repos": 19,
                                        "public_gists": 0,
                                        "followers": 15,
                                        "following": 30,
                                        "created_at": "2016-11-05T18:59:38",
                                        "updated_at": "2023-06-22T06:08:50"
                                    },
                                    {
                                        "login": "04leslie",
                                        "type": "User",
                                        "site_admin": "false",
                                        "name": "",
                                        "company": "",
                                        "blog": "",
                                        "location": "",
                                        "email": "",
                                        "hireable": "false",
                                        "bio": "",
                                        "twitter_username": "",
                                        "public_repos": 6,
                                        "public_gists": 0,
                                        "followers": 0,
                                        "following": 1,
                                        "created_at": "2022-09-23T14:33:44",
                                        "updated_at": "2023-07-21T18:58:30"
                                    },
                                    {
                                        "login": "0550248425",
                                        "type": "User",
                                        "site_admin": "false",
                                        "name": "",
                                        "company": "",
                                        "blog": "",
                                        "location": "",
                                        "email": "",
                                        "hireable": "false",
                                        "bio": "",
                                        "twitter_username": "",
                                        "public_repos": 0,
                                        "public_gists": 0,
                                        "followers": 0,
                                        "following": 1,
                                        "created_at": "2019-09-20T04:08:31",
                                        "updated_at": "2022-07-28T16:22:09"
                                    },
                                    {
                                        "login": "0604hx",
                                        "type": "User",
                                        "site_admin": "false",
                                        "name": "集成显卡",
                                        "company": "",
                                        "blog": "https://0604hx.github.io/",
                                        "location": "NanNing, GuangXi, China",
                                        "email": "zxingming@qq.com",
                                        "hireable": "false",
                                        "bio": "",
                                        "twitter_username": "",
                                        "public_repos": 19,
                                        "public_gists": 0,
                                        "followers": 13,
                                        "following": 10,
                                        "created_at": "2013-02-10T05:24:11",
                                        "updated_at": "2023-03-21T15:01:20"
                                    },
                                    {
                                        "login": "0902horn",
                                        "type": "User",
                                        "site_admin": "false",
                                        "name": "Wang Chuan",
                                        "company": "",
                                        "blog": "",
                                        "location": "",
                                        "email": "",
                                        "hireable": "false",
                                        "bio": "",
                                        "twitter_username": "",
                                        "public_repos": 17,
                                        "public_gists": 0,
                                        "followers": 4,
                                        "following": 7,
                                        "created_at": "2010-04-04T07:38:23",
                                        "updated_at": "2023-06-07T05:06:34"
                                    },
                                    {
                                        "login": "0907137723-s",
                                        "type": "User",
                                        "site_admin": "false",
                                        "name": "ทินกร ทองรักษ์",
                                        "company": "ส่วนบุคคล",
                                        "blog": "https://www.google.com",
                                        "location": "ไทยแลนด์",
                                        "email": "",
                                        "hireable": "true",
                                        "bio": "ฉันเป็นผู้ชาย",
                                        "twitter_username": "",
                                        "public_repos": 3,
                                        "public_gists": 0,
                                        "followers": 2,
                                        "following": 11,
                                        "created_at": "2020-09-15T15:30:53",
                                        "updated_at": "2022-05-01T19:56:22"
                                    },
                                    {
                                        "login": "0951540559",
                                        "type": "User",
                                        "site_admin": "false",
                                        "name": "",
                                        "company": "",
                                        "blog": "",
                                        "location": "",
                                        "email": "",
                                        "hireable": "false",
                                        "bio": "",
                                        "twitter_username": "",
                                        "public_repos": 0,
                                        "public_gists": 0,
                                        "followers": 0,
                                        "following": 0,
                                        "created_at": "2021-08-20T21:49:23",
                                        "updated_at": "2021-09-02T19:06:25"
                                    },
                                    {
                                        "login": "09ae9c",
                                        "type": "User",
                                        "site_admin": "false",
                                        "name": "09AE9C",
                                        "company": "",
                                        "blog": "",
                                        "location": "ShenZhen",
                                        "email": "09ae9c@gmail.com",
                                        "hireable": "false",
                                        "bio": "bug maker",
                                        "twitter_username": "",
                                        "public_repos": 11,
                                        "public_gists": 1,
                                        "followers": 31,
                                        "following": 25,
                                        "created_at": "2015-02-27T11:29:12",
                                        "updated_at": "2023-05-12T13:09:38"
                                    },
                                    {
                                        "login": "0alejandro",
                                        "type": "User",
                                        "site_admin": "false",
                                        "name": "",
                                        "company": "",
                                        "blog": "",
                                        "location": "",
                                        "email": "",
                                        "hireable": "false",
                                        "bio": "",
                                        "twitter_username": "",
                                        "public_repos": 0,
                                        "public_gists": 0,
                                        "followers": 0,
                                        "following": 0,
                                        "created_at": "2022-07-31T06:36:03",
                                        "updated_at": "2023-07-13T19:33:19"
                                    },
                                    {
                                        "login": "0daypwn",
                                        "type": "User",
                                        "site_admin": "false",
                                        "name": "",
                                        "company": "",
                                        "blog": "",
                                        "location": "",
                                        "email": "",
                                        "hireable": "false",
                                        "bio": "",
                                        "twitter_username": "",
                                        "public_repos": 12,
                                        "public_gists": 0,
                                        "followers": 11,
                                        "following": 48,
                                        "created_at": "2017-08-10T10:53:18",
                                        "updated_at": "2023-07-20T17:53:08"
                                    },
                                    {
                                        "login": "0exp",
                                        "type": "User",
                                        "site_admin": "false",
                                        "name": "Rustam Ibragimov",
                                        "company": "@umbrellio @smart-rb @cado-labs",
                                        "blog": "https://github.com/0exp",
                                        "location": "",
                                        "email": "",
                                        "hireable": "true",
                                        "bio": "Teamlead at @Cado-Labs / @Umbrellio (Team & Process Management, Software Architecture Design, Software Engineering)\r\n\r\nCreator of @smart-rb",
                                        "twitter_username": "",
                                        "public_repos": 108,
                                        "public_gists": 2,
                                        "followers": 84,
                                        "following": 220,
                                        "created_at": "2017-10-28T17:59:22",
                                        "updated_at": "2023-07-23T17:38:58"
                                    },
                                    {
                                        "login": "0i",
                                        "type": "User",
                                        "site_admin": "false",
                                        "name": "Frye",
                                        "company": "",
                                        "blog": "",
                                        "location": "",
                                        "email": "",
                                        "hireable": "true",
                                        "bio": "",
                                        "twitter_username": "",
                                        "public_repos": 24,
                                        "public_gists": 1,
                                        "followers": 4,
                                        "following": 5,
                                        "created_at": "2012-06-14T01:50:18",
                                        "updated_at": "2022-12-10T10:15:16"
                                    },
                                    {
                                        "login": "0l1v3rr",
                                        "type": "User",
                                        "site_admin": "false",
                                        "name": "Olivér Mrakovics",
                                        "company": "",
                                        "blog": "",
                                        "location": "Hungary",
                                        "email": "oliver.mrakovics@gmail.com",
                                        "hireable": "false",
                                        "bio": "",
                                        "twitter_username": "",
                                        "public_repos": 12,
                                        "public_gists": 0,
                                        "followers": 980,
                                        "following": 10,
                                        "created_at": "2021-01-19T19:25:19",
                                        "updated_at": "2023-08-02T16:52:11"
                                    },
                                    {
                                        "login": "0maru",
                                        "type": "User",
                                        "site_admin": "false",
                                        "name": "Toi Yoshimaru",
                                        "company": "TORICO Co.,Ltd.",
                                        "blog": "",
                                        "location": "Tokyo, Japan",
                                        "email": "",
                                        "hireable": "false",
                                        "bio": "Flutter Developer : )",
                                        "twitter_username": "0maru_dev",
                                        "public_repos": 71,
                                        "public_gists": 3,
                                        "followers": 25,
                                        "following": 20,
                                        "created_at": "2018-09-22T10:17:42",
                                        "updated_at": "2023-07-27T04:34:29"
                                    },
                                    {
                                        "login": "0n3t04ll",
                                        "type": "User",
                                        "site_admin": "false",
                                        "name": "starPt",
                                        "company": "",
                                        "blog": "",
                                        "location": "",
                                        "email": "",
                                        "hireable": "false",
                                        "bio": "",
                                        "twitter_username": "",
                                        "public_repos": 28,
                                        "public_gists": 23,
                                        "followers": 32,
                                        "following": 140,
                                        "created_at": "2015-12-07T07:43:50",
                                        "updated_at": "2023-07-29T18:57:26"
                                    },
                                    {
                                        "login": "0neSe7en",
                                        "type": "User",
                                        "site_admin": "false",
                                        "name": "WangSiyuan",
                                        "company": "@iftechio",
                                        "blog": "https://se7en.wang",
                                        "location": "Melbourne, Australia",
                                        "email": "siyuan.se7en@gmail.com",
                                        "hireable": "false",
                                        "bio": "",
                                        "twitter_username": "0ne_Se7en",
                                        "public_repos": 102,
                                        "public_gists": 8,
                                        "followers": 184,
                                        "following": 386,
                                        "created_at": "2012-08-28T13:16:58",
                                        "updated_at": "2023-07-27T11:02:44"
                                    },
                                    {
                                        "login": "0niel",
                                        "type": "User",
                                        "site_admin": "false",
                                        "name": "Sergey Dmitriev",
                                        "company": "RTU MIREA",
                                        "blog": "",
                                        "location": "Moscow, Russia",
                                        "email": "",
                                        "hireable": "true",
                                        "bio": "",
                                        "twitter_username": "",
                                        "public_repos": 56,
                                        "public_gists": 6,
                                        "followers": 73,
                                        "following": 70,
                                        "created_at": "2019-05-26T18:29:00",
                                        "updated_at": "2023-07-10T11:44:25"
                                    },
                                    {
                                        "login": "0qdk4o",
                                        "type": "User",
                                        "site_admin": "false",
                                        "name": "0qdk4o",
                                        "company": "",
                                        "blog": "",
                                        "location": "",
                                        "email": "",
                                        "hireable": "false",
                                        "bio": "",
                                        "twitter_username": "",
                                        "public_repos": 3,
                                        "public_gists": 3,
                                        "followers": 5,
                                        "following": 27,
                                        "created_at": "2012-01-10T05:22:02",
                                        "updated_at": "2023-04-01T16:30:36"
                                    },
                                    {
                                        "login": "0rhan",
                                        "type": "User",
                                        "site_admin": "false",
                                        "name": "Orhan Gurbanov",
                                        "company": "",
                                        "blog": "",
                                        "location": "",
                                        "email": "",
                                        "hireable": "true",
                                        "bio": "",
                                        "twitter_username": "",
                                        "public_repos": 9,
                                        "public_gists": 0,
                                        "followers": 6,
                                        "following": 3,
                                        "created_at": "2017-11-03T13:27:32",
                                        "updated_at": "2023-07-27T07:59:55"
                                    },
                                    {
                                        "login": "0rp3u",
                                        "type": "User",
                                        "site_admin": "false",
                                        "name": "David Duarte",
                                        "company": "",
                                        "blog": "",
                                        "location": "Lisbon",
                                        "email": "",
                                        "hireable": "false",
                                        "bio": "Software engineer, mostly focused on mobile development, currently exploring 🇫lutter.",
                                        "twitter_username": "DavidDu24126674",
                                        "public_repos": 11,
                                        "public_gists": 1,
                                        "followers": 10,
                                        "following": 56,
                                        "created_at": "2015-11-16T19:12:44",
                                        "updated_at": "2022-01-10T16:34:49"
                                    },
                                    {
                                        "login": "0top",
                                        "type": "User",
                                        "site_admin": "false",
                                        "name": "zerotop",
                                        "company": "",
                                        "blog": "",
                                        "location": "",
                                        "email": "",
                                        "hireable": "false",
                                        "bio": "java 后端\r\n公众号：zerotop  \r\n",
                                        "twitter_username": "",
                                        "public_repos": 10,
                                        "public_gists": 0,
                                        "followers": 8,
                                        "following": 41,
                                        "created_at": "2016-05-30T04:24:07",
                                        "updated_at": "2023-04-11T01:28:16"
                                    },
                                    {
                                        "login": "0utman1",
                                        "type": "User",
                                        "site_admin": "false",
                                        "name": "0utMan",
                                        "company": "",
                                        "blog": "",
                                        "location": "",
                                        "email": "",
                                        "hireable": "false",
                                        "bio": "",
                                        "twitter_username": "",
                                        "public_repos": 20,
                                        "public_gists": 0,
                                        "followers": 3,
                                        "following": 5,
                                        "created_at": "2016-12-06T12:50:16",
                                        "updated_at": "2023-07-12T07:53:26"
                                    },
                                    {
                                        "login": "0w3",
                                        "type": "User",
                                        "site_admin": "false",
                                        "name": "0w3",
                                        "company": "",
                                        "blog": "",
                                        "location": "",
                                        "email": "",
                                        "hireable": "false",
                                        "bio": "この素晴らしい世界に祝福を!\r\nCERTです！",
                                        "twitter_username": "",
                                        "public_repos": 1,
                                        "public_gists": 0,
                                        "followers": 84,
                                        "following": 96,
                                        "created_at": "2014-10-24T15:52:51",
                                        "updated_at": "2022-07-15T07:05:18"
                                    },
                                    {
                                        "login": "0x003e",
                                        "type": "User",
                                        "site_admin": "false",
                                        "name": "Francis",
                                        "company": "",
                                        "blog": "",
                                        "location": "Paris",
                                        "email": "",
                                        "hireable": "true",
                                        "bio": "",
                                        "twitter_username": "",
                                        "public_repos": 19,
                                        "public_gists": 9,
                                        "followers": 3,
                                        "following": 7,
                                        "created_at": "2015-06-02T23:40:03",
                                        "updated_at": "2022-12-30T23:15:43"
                                    },
                                    {
                                        "login": "0x00dec0de",
                                        "type": "User",
                                        "site_admin": "false",
                                        "name": "Sukhorukov Olexandr",
                                        "company": "",
                                        "blog": "",
                                        "location": "",
                                        "email": "zday@meta.ua",
                                        "hireable": "false",
                                        "bio": "",
                                        "twitter_username": "",
                                        "public_repos": 259,
                                        "public_gists": 197,
                                        "followers": 16,
                                        "following": 6,
                                        "created_at": "2011-10-22T22:19:30",
                                        "updated_at": "2023-07-22T11:20:48"
                                    },
                                    {
                                        "login": "0x0400",
                                        "type": "User",
                                        "site_admin": "false",
                                        "name": "Xingang Zhang",
                                        "company": "",
                                        "blog": "",
                                        "location": "China",
                                        "email": "",
                                        "hireable": "false",
                                        "bio": "不畏将来，不念过往",
                                        "twitter_username": "",
                                        "public_repos": 13,
                                        "public_gists": 3,
                                        "followers": 15,
                                        "following": 33,
                                        "created_at": "2009-04-29T03:15:30",
                                        "updated_at": "2023-04-03T16:06:45"
                                    },
                                    {
                                        "login": "0x1997",
                                        "type": "User",
                                        "site_admin": "false",
                                        "name": "ZW",
                                        "company": "",
                                        "blog": "",
                                        "location": "",
                                        "email": "",
                                        "hireable": "true",
                                        "bio": "",
                                        "twitter_username": "",
                                        "public_repos": 88,
                                        "public_gists": 1,
                                        "followers": 24,
                                        "following": 12,
                                        "created_at": "2010-08-30T10:32:29",
                                        "updated_at": "2023-07-20T01:23:29"
                                    },
                                    {
                                        "login": "0x2d3c",
                                        "type": "User",
                                        "site_admin": "false",
                                        "name": "Qt",
                                        "company": "",
                                        "blog": "",
                                        "location": "ChengDu",
                                        "email": "golang.chen@gmail.com",
                                        "hireable": "false",
                                        "bio": "fans with golang",
                                        "twitter_username": "",
                                        "public_repos": 12,
                                        "public_gists": 0,
                                        "followers": 8,
                                        "following": 13,
                                        "created_at": "2016-07-15T02:36:29",
                                        "updated_at": "2023-01-12T03:22:58"
                                    },
                                    {
                                        "login": "0x4ec7",
                                        "type": "User",
                                        "site_admin": "false",
                                        "name": "之东",
                                        "company": "",
                                        "blog": "https://zhidong.me/",
                                        "location": "Chengdu, China",
                                        "email": "0x4ec7@gmail.com",
                                        "hireable": "false",
                                        "bio": "",
                                        "twitter_username": "",
                                        "public_repos": 54,
                                        "public_gists": 2,
                                        "followers": 8,
                                        "following": 9,
                                        "created_at": "2013-05-28T16:40:48",
                                        "updated_at": "2023-07-27T11:25:45"
                                    },
                                    {
                                        "login": "0x5010",
                                        "type": "User",
                                        "site_admin": "false",
                                        "name": "Ivan Lim",
                                        "company": "@bytedance",
                                        "blog": "https://blog.keyboardman.me",
                                        "location": "Xiamen, China",
                                        "email": "",
                                        "hireable": "false",
                                        "bio": "须知少日拿云志\r\n曾许人间第一流",
                                        "twitter_username": "",
                                        "public_repos": 23,
                                        "public_gists": 1,
                                        "followers": 70,
                                        "following": 35,
                                        "created_at": "2016-04-13T09:34:15",
                                        "updated_at": "2022-08-01T16:25:59"
                                    },
                                    {
                                        "login": "0x6773",
                                        "type": "User",
                                        "site_admin": "false",
                                        "name": "Govind Sahai",
                                        "company": "",
                                        "blog": "",
                                        "location": "India",
                                        "email": "",
                                        "hireable": "true",
                                        "bio": "",
                                        "twitter_username": "",
                                        "public_repos": 101,
                                        "public_gists": 6,
                                        "followers": 37,
                                        "following": 18,
                                        "created_at": "2014-04-09T06:55:49",
                                        "updated_at": "2023-08-04T14:56:13"
                                    },
                                    {
                                        "login": "0x7E",
                                        "type": "User",
                                        "site_admin": "false",
                                        "name": "Jianqiang Wang",
                                        "company": "",
                                        "blog": "",
                                        "location": "Beijing",
                                        "email": "",
                                        "hireable": "true",
                                        "bio": "",
                                        "twitter_username": "",
                                        "public_repos": 40,
                                        "public_gists": 0,
                                        "followers": 11,
                                        "following": 21,
                                        "created_at": "2012-12-12T12:19:13",
                                        "updated_at": "2023-06-08T05:27:19"
                                    },
                                    {
                                        "login": "0x7a7a",
                                        "type": "User",
                                        "site_admin": "false",
                                        "name": "",
                                        "company": "",
                                        "blog": "",
                                        "location": "Mars",
                                        "email": "",
                                        "hireable": "false",
                                        "bio": "Neovim,Go,Rust,Typescript,Lua  ",
                                        "twitter_username": "",
                                        "public_repos": 2,
                                        "public_gists": 1,
                                        "followers": 20,
                                        "following": 17,
                                        "created_at": "2014-09-19T12:50:51",
                                        "updated_at": "2023-07-14T05:19:33"
                                    },
                                    {
                                        "login": "0x7b1",
                                        "type": "User",
                                        "site_admin": "false",
                                        "name": "Carlos R.",
                                        "company": "",
                                        "blog": "",
                                        "location": "Estonia",
                                        "email": "",
                                        "hireable": "true",
                                        "bio": "",
                                        "twitter_username": "",
                                        "public_repos": 12,
                                        "public_gists": 0,
                                        "followers": 69,
                                        "following": 625,
                                        "created_at": "2012-08-20T00:57:55",
                                        "updated_at": "2023-08-02T14:33:43"
                                    },
                                    {
                                        "login": "0xCuteSocks",
                                        "type": "User",
                                        "site_admin": "false",
                                        "name": "CuteSocks",
                                        "company": "McDonald's",
                                        "blog": "",
                                        "location": "Isekai mental institution",
                                        "email": "",
                                        "hireable": "false",
                                        "bio": "",
                                        "twitter_username": "0xCuteSocks",
                                        "public_repos": 12,
                                        "public_gists": 0,
                                        "followers": 27,
                                        "following": 77,
                                        "created_at": "2023-04-09T08:25:52",
                                        "updated_at": "2023-08-03T13:32:11"
                                    },
                                    {
                                        "login": "0xDkXy",
                                        "type": "User",
                                        "site_admin": "false",
                                        "name": "HAOYU  LI",
                                        "company": "Free",
                                        "blog": "https://0xdkxy.github.io/blog/",
                                        "location": "Changsha, China",
                                        "email": "bo001015@outlook.com",
                                        "hireable": "false",
                                        "bio": "A free man",
                                        "twitter_username": "",
                                        "public_repos": 45,
                                        "public_gists": 0,
                                        "followers": 19,
                                        "following": 97,
                                        "created_at": "2019-09-29T11:28:04",
                                        "updated_at": "2023-08-05T14:17:11"
                                    },
                                    {
                                        "login": "0xManjeet",
                                        "type": "User",
                                        "site_admin": "false",
                                        "name": "0xManjeet",
                                        "company": "",
                                        "blog": "",
                                        "location": "127.1",
                                        "email": "",
                                        "hireable": "false",
                                        "bio": "AAAAA%00AAAAAAAAAAAAAAAAAAAAAAAAAAAAAAAAAAAAAAAAAAAAAAAAAAAAAAAAAAAAAAAAAAAAAAAAAAAAAAAAAAAAAAAAAAAAAAAAAAAAAAAAAAAAAAAAAAAAAAAAAAAAAAAAAAAAAAAAAAAAAAAAAAAAAAAA",
                                        "twitter_username": "0xManjeet",
                                        "public_repos": 45,
                                        "public_gists": 4,
                                        "followers": 3,
                                        "following": 2,
                                        "created_at": "2019-03-05T12:02:46",
                                        "updated_at": "2023-08-03T16:46:33"
                                    },
                                    {
                                        "login": "0xTimT",
                                        "type": "User",
                                        "site_admin": "false",
                                        "name": "",
                                        "company": "",
                                        "blog": "",
                                        "location": "",
                                        "email": "",
                                        "hireable": "false",
                                        "bio": "",
                                        "twitter_username": "",
                                        "public_repos": 1,
                                        "public_gists": 0,
                                        "followers": 0,
                                        "following": 0,
                                        "created_at": "2019-05-08T09:21:15",
                                        "updated_at": "2023-03-23T07:42:47"
                                    },
                                    {
                                        "login": "0xVK",
                                        "type": "User",
                                        "site_admin": "false",
                                        "name": "Vitaliy",
                                        "company": "",
                                        "blog": "http://t.me/koocherov",
                                        "location": "Ukraine, Zhytomir",
                                        "email": "koocherov@ukr.net",
                                        "hireable": "false",
                                        "bio": "Python, PHP, Linux",
                                        "twitter_username": "",
                                        "public_repos": 18,
                                        "public_gists": 0,
                                        "followers": 4,
                                        "following": 6,
                                        "created_at": "2016-06-30T09:52:01",
                                        "updated_at": "2023-06-25T07:26:37"
                                    },
                                    {
                                        "login": "0xYami",
                                        "type": "User",
                                        "site_admin": "false",
                                        "name": "0xYami",
                                        "company": "",
                                        "blog": "https://yami.sh",
                                        "location": "",
                                        "email": "",
                                        "hireable": "false",
                                        "bio": "",
                                        "twitter_username": "0xYami9",
                                        "public_repos": 13,
                                        "public_gists": 0,
                                        "followers": 6,
                                        "following": 0,
                                        "created_at": "2022-11-21T01:20:05",
                                        "updated_at": "2023-07-27T07:41:06"
                                    },
                                    {
                                        "login": "0xabcdefff",
                                        "type": "User",
                                        "site_admin": "false",
                                        "name": "Maxwell",
                                        "company": "",
                                        "blog": "",
                                        "location": "China",
                                        "email": "Maxwell.Lee@outlook.com",
                                        "hireable": "false",
                                        "bio": "RTFSC & DEBUG",
                                        "twitter_username": "",
                                        "public_repos": 2,
                                        "public_gists": 0,
                                        "followers": 17,
                                        "following": 184,
                                        "created_at": "2015-11-30T07:26:45",
                                        "updated_at": "2023-07-18T03:51:26"
                                    },
                                    {
                                        "login": "0xae",
                                        "type": "User",
                                        "site_admin": "false",
                                        "name": "ayrton",
                                        "company": "@Enterstarts",
                                        "blog": "https://enterstarts.com",
                                        "location": "",
                                        "email": "com.ayrton@gmail.com",
                                        "hireable": "false",
                                        "bio": "code is law\r\n1busfUTobwzDxTh4iq23mCFZcggHwAZnR",
                                        "twitter_username": "",
                                        "public_repos": 63,
                                        "public_gists": 13,
                                        "followers": 60,
                                        "following": 313,
                                        "created_at": "2010-11-28T14:32:08",
                                        "updated_at": "2022-09-09T13:13:55"
                                    },
                                    {
                                        "login": "0xb8ea",
                                        "type": "User",
                                        "site_admin": "false",
                                        "name": "0xb8ea",
                                        "company": "",
                                        "blog": "",
                                        "location": "Guangzhou",
                                        "email": "0xb8ea@gmail.com",
                                        "hireable": "false",
                                        "bio": "^_^",
                                        "twitter_username": "",
                                        "public_repos": 4,
                                        "public_gists": 0,
                                        "followers": 3,
                                        "following": 2,
                                        "created_at": "2016-09-18T02:32:49",
                                        "updated_at": "2023-07-21T06:38:28"
                                    },
                                    {
                                        "login": "0xf4vul",
                                        "type": "User",
                                        "site_admin": "false",
                                        "name": "oxf4vul",
                                        "company": "",
                                        "blog": "",
                                        "location": "",
                                        "email": "",
                                        "hireable": "false",
                                        "bio": "",
                                        "twitter_username": "",
                                        "public_repos": 630,
                                        "public_gists": 1,
                                        "followers": 110,
                                        "following": 611,
                                        "created_at": "2012-12-24T09:03:01",
                                        "updated_at": "2023-07-31T04:16:34"
                                    },
                                    {
                                        "login": "0xfeedface",
                                        "type": "User",
                                        "site_admin": "false",
                                        "name": "Norman Heino",
                                        "company": "",
                                        "blog": "",
                                        "location": "Germany",
                                        "email": "norman.heino@gmail.com",
                                        "hireable": "false",
                                        "bio": "",
                                        "twitter_username": "",
                                        "public_repos": 25,
                                        "public_gists": 0,
                                        "followers": 16,
                                        "following": 4,
                                        "created_at": "2009-12-29T12:25:36",
                                        "updated_at": "2023-06-14T12:44:14"
                                    },
                                    {
                                        "login": "0xfei",
                                        "type": "User",
                                        "site_admin": "false",
                                        "name": "0x01f",
                                        "company": "",
                                        "blog": "https://0x01f.cn",
                                        "location": "",
                                        "email": "",
                                        "hireable": "false",
                                        "bio": "",
                                        "twitter_username": "",
                                        "public_repos": 14,
                                        "public_gists": 0,
                                        "followers": 49,
                                        "following": 7,
                                        "created_at": "2013-11-27T04:24:49",
                                        "updated_at": "2023-07-19T02:23:50"
                                    },
                                    {
                                        "login": "0xflotus",
                                        "type": "User",
                                        "site_admin": "false",
                                        "name": "0xflotus",
                                        "company": "",
                                        "blog": "",
                                        "location": "",
                                        "email": "0xflotus@gmail.com",
                                        "hireable": "true",
                                        "bio": "",
                                        "twitter_username": "",
                                        "public_repos": 2448,
                                        "public_gists": 2,
                                        "followers": 329,
                                        "following": 135,
                                        "created_at": "2017-03-22T14:56:46",
                                        "updated_at": "2023-07-11T11:34:12"
                                    },
                                    {
                                        "login": "0xfreeman",
                                        "type": "User",
                                        "site_admin": "false",
                                        "name": "Tingwei Liu",
                                        "company": "",
                                        "blog": "",
                                        "location": "Beijing",
                                        "email": "",
                                        "hireable": "false",
                                        "bio": "",
                                        "twitter_username": "",
                                        "public_repos": 37,
                                        "public_gists": 1,
                                        "followers": 37,
                                        "following": 142,
                                        "created_at": "2016-09-21T06:59:22",
                                        "updated_at": "2023-08-04T15:00:12"
                                    },
                                    {
                                        "login": "0xkt",
                                        "type": "User",
                                        "site_admin": "false",
                                        "name": "Karthik Thiyagarajan",
                                        "company": "",
                                        "blog": "",
                                        "location": "",
                                        "email": "karthik.thn@gmail.com",
                                        "hireable": "false",
                                        "bio": "",
                                        "twitter_username": "",
                                        "public_repos": 1,
                                        "public_gists": 0,
                                        "followers": 5,
                                        "following": 1,
                                        "created_at": "2010-06-01T18:21:11",
                                        "updated_at": "2023-07-03T16:21:22"
                                    },
                                    {
                                        "login": "0xlax",
                                        "type": "User",
                                        "site_admin": "false",
                                        "name": "lax",
                                        "company": "",
                                        "blog": "laxman.tech",
                                        "location": "mom's basement",
                                        "email": "harshith.lax@gmail.com",
                                        "hireable": "false",
                                        "bio": "C, Go, Rust, and Cheese Cake\r\n\r\n| Discord: tikolanesla#1995 \r\n\r\n\r\n\r\n",
                                        "twitter_username": "0xlax",
                                        "public_repos": 199,
                                        "public_gists": 6,
                                        "followers": 30,
                                        "following": 259,
                                        "created_at": "2019-08-21T10:41:37",
                                        "updated_at": "2023-07-27T09:40:33"
                                    },
                                    {
                                        "login": "0xqq",
                                        "type": "User",
                                        "site_admin": "false",
                                        "name": "",
                                        "company": "",
                                        "blog": "",
                                        "location": "",
                                        "email": "",
                                        "hireable": "false",
                                        "bio": "",
                                        "twitter_username": "",
                                        "public_repos": 951,
                                        "public_gists": 0,
                                        "followers": 51,
                                        "following": 13,
                                        "created_at": "2016-01-28T15:22:45",
                                        "updated_at": "2023-06-29T00:18:56"
                                    },
                                    {
                                        "login": "0xsirsaif",
                                        "type": "User",
                                        "site_admin": "false",
                                        "name": "0xsaif",
                                        "company": "Axentorllc",
                                        "blog": "https://serioussaif.netlify.app/",
                                        "location": "Egypt",
                                        "email": "sirsaif99@gmail.com",
                                        "hireable": "true",
                                        "bio": " I am interested in system programming, distributed systems and infrastructure engineering.",
                                        "twitter_username": "0xsirsaif",
                                        "public_repos": 108,
                                        "public_gists": 1,
                                        "followers": 89,
                                        "following": 579,
                                        "created_at": "2019-09-15T01:49:03",
                                        "updated_at": "2023-07-29T15:55:10"
                                    },
                                    {
                                        "login": "0xsky",
                                        "type": "User",
                                        "site_admin": "false",
                                        "name": "xSky",
                                        "company": "",
                                        "blog": "https://0xsky.com",
                                        "location": "ShangHai, China",
                                        "email": "guozhw@gmail.com",
                                        "hireable": "false",
                                        "bio": "Developer,WebRTC,Network,MySQL,noSQL,AI",
                                        "twitter_username": "",
                                        "public_repos": 38,
                                        "public_gists": 0,
                                        "followers": 95,
                                        "following": 1,
                                        "created_at": "2013-08-11T17:09:13",
                                        "updated_at": "2023-07-31T15:11:49"
                                    },
                                    {
                                        "login": "0xthierry",
                                        "type": "User",
                                        "site_admin": "false",
                                        "name": "Thierry Santos",
                                        "company": "@clicampo",
                                        "blog": "",
                                        "location": "Brasil",
                                        "email": "thierrysantoos123@gmail.com",
                                        "hireable": "true",
                                        "bio": "software engineer, react, ts, node, golang, and python",
                                        "twitter_username": "0xthierry",
                                        "public_repos": 43,
                                        "public_gists": 34,
                                        "followers": 59,
                                        "following": 318,
                                        "created_at": "2015-09-29T07:50:51",
                                        "updated_at": "2023-06-29T22:50:28"
                                    },
                                    {
                                        "login": "0xton",
                                        "type": "User",
                                        "site_admin": "false",
                                        "name": "l3n4QAQ",
                                        "company": "",
                                        "blog": "",
                                        "location": "",
                                        "email": "lijiale5555555555@outlook.com",
                                        "hireable": "false",
                                        "bio": "",
                                        "twitter_username": "",
                                        "public_repos": 6,
                                        "public_gists": 0,
                                        "followers": 0,
                                        "following": 1,
                                        "created_at": "2017-10-15T04:42:21",
                                        "updated_at": "2023-07-20T18:01:53"
                                    },
                                    {
                                        "login": "1-2797210198",
                                        "type": "User",
                                        "site_admin": "false",
                                        "name": "Karlee Barber",
                                        "company": "42704103+1-2797210198@usersnoreply.git.com",
                                        "blog": "https://110-KBreftechprofile.microsoft.com\\en-us/",
                                        "location": "Louisiana, USA",
                                        "email": "",
                                        "hireable": "false",
                                        "bio": "Medical Research|Opinionated Reviews|Customer Service Consultant|New to code and Data Science, but enjoy learning",
                                        "twitter_username": "",
                                        "public_repos": 5,
                                        "public_gists": 0,
                                        "followers": 1,
                                        "following": 3,
                                        "created_at": "2018-08-25T21:15:58",
                                        "updated_at": "2023-07-16T11:41:50"
                                    },
                                    {
                                        "login": "10-hello",
                                        "type": "User",
                                        "site_admin": "false",
                                        "name": "",
                                        "company": "",
                                        "blog": "",
                                        "location": "",
                                        "email": "",
                                        "hireable": "false",
                                        "bio": "",
                                        "twitter_username": "",
                                        "public_repos": 0,
                                        "public_gists": 0,
                                        "followers": 0,
                                        "following": 0,
                                        "created_at": "2021-05-19T04:34:16",
                                        "updated_at": "2021-06-08T02:06:48"
                                    },
                                    {
                                        "login": "100apps",
                                        "type": "User",
                                        "site_admin": "false",
                                        "name": "",
                                        "company": "",
                                        "blog": "",
                                        "location": "",
                                        "email": "gf@gfzj.us",
                                        "hireable": "false",
                                        "bio": "",
                                        "twitter_username": "",
                                        "public_repos": 37,
                                        "public_gists": 4,
                                        "followers": 460,
                                        "following": 104,
                                        "created_at": "2014-07-05T15:08:08",
                                        "updated_at": "2023-07-09T12:04:20"
                                    },
                                    {
                                        "login": "1014660991",
                                        "type": "User",
                                        "site_admin": "false",
                                        "name": "MistedEyes",
                                        "company": "null",
                                        "blog": "null",
                                        "location": "",
                                        "email": "1014660991@qq.com",
                                        "hireable": "false",
                                        "bio": "Travellers in a beautiful world!",
                                        "twitter_username": "",
                                        "public_repos": 0,
                                        "public_gists": 0,
                                        "followers": 0,
                                        "following": 0,
                                        "created_at": "2017-07-13T09:01:16",
                                        "updated_at": "2021-11-26T03:40:53"
                                    },
                                    {
                                        "login": "101t",
                                        "type": "User",
                                        "site_admin": "false",
                                        "name": "Tarek Kalaji",
                                        "company": "@supernovasoft ",
                                        "blog": "https://supernovasoft.com",
                                        "location": "Istanbul",
                                        "email": "",
                                        "hireable": "true",
                                        "bio": "🐍 Python, Django and Odoo Development, AWS, Telecommunication, Troubleshooting, DevOps",
                                        "twitter_username": "Tarek_Kalaajy",
                                        "public_repos": 49,
                                        "public_gists": 23,
                                        "followers": 321,
                                        "following": 59,
                                        "created_at": "2013-07-07T12:56:34",
                                        "updated_at": "2023-04-19T13:25:53"
                                    },
                                    {
                                        "login": "1040979575",
                                        "type": "User",
                                        "site_admin": "false",
                                        "name": "yuhao",
                                        "company": "",
                                        "blog": "",
                                        "location": "",
                                        "email": "",
                                        "hireable": "false",
                                        "bio": "",
                                        "twitter_username": "",
                                        "public_repos": 15,
                                        "public_gists": 0,
                                        "followers": 2,
                                        "following": 1,
                                        "created_at": "2016-05-27T05:46:06",
                                        "updated_at": "2023-06-26T04:05:50"
                                    },
                                    {
                                        "login": "10Dev",
                                        "type": "User",
                                        "site_admin": "false",
                                        "name": "Cortana",
                                        "company": "",
                                        "blog": "",
                                        "location": "",
                                        "email": "",
                                        "hireable": "false",
                                        "bio": "",
                                        "twitter_username": "",
                                        "public_repos": 4,
                                        "public_gists": 0,
                                        "followers": 10,
                                        "following": 3,
                                        "created_at": "2016-02-19T20:25:26",
                                        "updated_at": "2022-10-27T06:45:10"
                                    },
                                    {
                                        "login": "10per3",
                                        "type": "User",
                                        "site_admin": "false",
                                        "name": "",
                                        "company": "",
                                        "blog": "",
                                        "location": "",
                                        "email": "",
                                        "hireable": "false",
                                        "bio": "",
                                        "twitter_username": "",
                                        "public_repos": 0,
                                        "public_gists": 0,
                                        "followers": 0,
                                        "following": 0,
                                        "created_at": "2020-06-18T12:26:39",
                                        "updated_at": "2021-09-28T16:43:22"
                                    },
                                    {
                                        "login": "10wpressure",
                                        "type": "User",
                                        "site_admin": "false",
                                        "name": "Boris Kuznetsov",
                                        "company": "LLC NPO GKMP",
                                        "blog": "",
                                        "location": "Moscow",
                                        "email": "",
                                        "hireable": "false",
                                        "bio": "",
                                        "twitter_username": "lowpressure",
                                        "public_repos": 30,
                                        "public_gists": 0,
                                        "followers": 4,
                                        "following": 11,
                                        "created_at": "2020-06-06T10:19:03",
                                        "updated_at": "2023-06-17T11:02:23"
                                    },
                                    {
                                        "login": "1124839262",
                                        "type": "User",
                                        "site_admin": "false",
                                        "name": "彤哥来啦",
                                        "company": "",
                                        "blog": "",
                                        "location": "",
                                        "email": "",
                                        "hireable": "false",
                                        "bio": "",
                                        "twitter_username": "",
                                        "public_repos": 16,
                                        "public_gists": 0,
                                        "followers": 3,
                                        "following": 12,
                                        "created_at": "2018-07-22T05:07:59",
                                        "updated_at": "2023-06-30T03:51:55"
                                    },
                                    {
                                        "login": "1132719438",
                                        "type": "User",
                                        "site_admin": "false",
                                        "name": "",
                                        "company": "",
                                        "blog": "",
                                        "location": "",
                                        "email": "",
                                        "hireable": "false",
                                        "bio": "",
                                        "twitter_username": "",
                                        "public_repos": 6,
                                        "public_gists": 0,
                                        "followers": 15,
                                        "following": 0,
                                        "created_at": "2014-12-10T06:25:29",
                                        "updated_at": "2023-05-22T08:58:04"
                                    },
                                    {
                                        "login": "115201592",
                                        "type": "User",
                                        "site_admin": "false",
                                        "name": "zhanglei",
                                        "company": "",
                                        "blog": "",
                                        "location": "",
                                        "email": "115201592@163.com",
                                        "hireable": "false",
                                        "bio": "",
                                        "twitter_username": "",
                                        "public_repos": 15,
                                        "public_gists": 0,
                                        "followers": 0,
                                        "following": 0,
                                        "created_at": "2016-07-19T03:28:47",
                                        "updated_at": "2022-11-21T08:32:54"
                                    },
                                    {
                                        "login": "1160300616",
                                        "type": "User",
                                        "site_admin": "false",
                                        "name": "yuyu_1998",
                                        "company": "Harbin Institute of Technology",
                                        "blog": "",
                                        "location": "Jiaxing City, Zhejiang Province, China",
                                        "email": "",
                                        "hireable": "false",
                                        "bio": "Firrst,congratulations on finding a rookie programmer!\r\nThis is yuyu,A big Data Engineer.\r\nDon't ask me a question, Because I certainly don't know the answer ><",
                                        "twitter_username": "",
                                        "public_repos": 8,
                                        "public_gists": 0,
                                        "followers": 3,
                                        "following": 2,
                                        "created_at": "2018-02-26T02:12:53",
                                        "updated_at": "2021-05-01T04:02:08"
                                    },
                                    {
                                        "login": "1170300514",
                                        "type": "User",
                                        "site_admin": "false",
                                        "name": "Haoyu",
                                        "company": "Harbin Institute of Technology",
                                        "blog": "https://blog.csdn.net/qq_41701363",
                                        "location": "Harbin China",
                                        "email": "xyzhang.top@foxmail.com",
                                        "hireable": "false",
                                        "bio": "",
                                        "twitter_username": "",
                                        "public_repos": 30,
                                        "public_gists": 0,
                                        "followers": 5,
                                        "following": 33,
                                        "created_at": "2018-08-20T02:39:41",
                                        "updated_at": "2023-07-26T08:37:44"
                                    },
                                    {
                                        "login": "1174921706",
                                        "type": "User",
                                        "site_admin": "false",
                                        "name": "orange",
                                        "company": "",
                                        "blog": "",
                                        "location": "",
                                        "email": "",
                                        "hireable": "false",
                                        "bio": "",
                                        "twitter_username": "",
                                        "public_repos": 0,
                                        "public_gists": 0,
                                        "followers": 0,
                                        "following": 0,
                                        "created_at": "2020-07-05T09:37:56",
                                        "updated_at": "2023-06-13T03:20:08"
                                    },
                                    {
                                        "login": "1178586111058",
                                        "type": "User",
                                        "site_admin": "false",
                                        "name": "Christoph Burgmer",
                                        "company": "China",
                                        "blog": "",
                                        "location": "{{company}}",
                                        "email": "",
                                        "hireable": "false",
                                        "bio": "",
                                        "twitter_username": "",
                                        "public_repos": 2,
                                        "public_gists": 0,
                                        "followers": 40,
                                        "following": 0,
                                        "created_at": "2021-04-21T11:24:30",
                                        "updated_at": "2021-09-20T11:20:17"
                                    },
                                    {
                                        "login": "1178615156",
                                        "type": "User",
                                        "site_admin": "false",
                                        "name": "yu jie shui",
                                        "company": "",
                                        "blog": "",
                                        "location": "",
                                        "email": "a1178615156@gmail.com",
                                        "hireable": "false",
                                        "bio": "",
                                        "twitter_username": "",
                                        "public_repos": 16,
                                        "public_gists": 3,
                                        "followers": 9,
                                        "following": 0,
                                        "created_at": "2014-08-01T10:51:46",
                                        "updated_at": "2023-03-26T02:12:50"
                                    },
                                    {
                                        "login": "11listen",
                                        "type": "User",
                                        "site_admin": "false",
                                        "name": "",
                                        "company": "",
                                        "blog": "1isten.xyz",
                                        "location": "",
                                        "email": "",
                                        "hireable": "false",
                                        "bio": "Handyman",
                                        "twitter_username": "",
                                        "public_repos": 13,
                                        "public_gists": 0,
                                        "followers": 26,
                                        "following": 161,
                                        "created_at": "2015-01-02T02:22:10",
                                        "updated_at": "2023-07-04T06:17:02"
                                    },
                                    {
                                        "login": "11qeq11",
                                        "type": "User",
                                        "site_admin": "false",
                                        "name": "Oleksandr Kozmenko",
                                        "company": "",
                                        "blog": "",
                                        "location": "",
                                        "email": "",
                                        "hireable": "false",
                                        "bio": "",
                                        "twitter_username": "",
                                        "public_repos": 0,
                                        "public_gists": 0,
                                        "followers": 0,
                                        "following": 1,
                                        "created_at": "2021-02-05T18:30:53",
                                        "updated_at": "2023-07-04T06:25:13"
                                    },
                                    {
                                        "login": "1211ciel",
                                        "type": "User",
                                        "site_admin": "false",
                                        "name": "",
                                        "company": "",
                                        "blog": "",
                                        "location": "china",
                                        "email": "",
                                        "hireable": "false",
                                        "bio": "",
                                        "twitter_username": "",
                                        "public_repos": 8,
                                        "public_gists": 0,
                                        "followers": 9,
                                        "following": 43,
                                        "created_at": "2019-05-13T12:02:48",
                                        "updated_at": "2023-07-06T20:19:01"
                                    },
                                    {
                                        "login": "1231mutouren",
                                        "type": "User",
                                        "site_admin": "false",
                                        "name": "",
                                        "company": "",
                                        "blog": "",
                                        "location": "",
                                        "email": "",
                                        "hireable": "false",
                                        "bio": "",
                                        "twitter_username": "",
                                        "public_repos": 0,
                                        "public_gists": 0,
                                        "followers": 0,
                                        "following": 0,
                                        "created_at": "2019-04-23T06:25:40",
                                        "updated_at": "2022-01-13T06:34:33"
                                    },
                                    {
                                        "login": "123Lookatme",
                                        "type": "User",
                                        "site_admin": "false",
                                        "name": "Oleksii Nikitin",
                                        "company": "",
                                        "blog": "",
                                        "location": "",
                                        "email": "",
                                        "hireable": "false",
                                        "bio": "",
                                        "twitter_username": "",
                                        "public_repos": 9,
                                        "public_gists": 0,
                                        "followers": 0,
                                        "following": 0,
                                        "created_at": "2014-06-17T17:22:37",
                                        "updated_at": "2023-07-04T15:04:44"
                                    },
                                    {
                                        "login": "123yxp123",
                                        "type": "User",
                                        "site_admin": "false",
                                        "name": "",
                                        "company": "",
                                        "blog": "",
                                        "location": "",
                                        "email": "",
                                        "hireable": "false",
                                        "bio": "",
                                        "twitter_username": "",
                                        "public_repos": 7,
                                        "public_gists": 0,
                                        "followers": 0,
                                        "following": 2,
                                        "created_at": "2016-08-04T02:35:59",
                                        "updated_at": "2023-02-22T05:48:20"
                                    },
                                    {
                                        "login": "1251353037",
                                        "type": "User",
                                        "site_admin": "false",
                                        "name": "",
                                        "company": "",
                                        "blog": "",
                                        "location": "",
                                        "email": "",
                                        "hireable": "false",
                                        "bio": "",
                                        "twitter_username": "",
                                        "public_repos": 6,
                                        "public_gists": 0,
                                        "followers": 0,
                                        "following": 0,
                                        "created_at": "2020-05-26T06:57:50",
                                        "updated_at": "2023-07-21T16:53:00"
                                    },
                                    {
                                        "login": "1253398412",
                                        "type": "User",
                                        "site_admin": "false",
                                        "name": "",
                                        "company": "",
                                        "blog": "",
                                        "location": "",
                                        "email": "",
                                        "hireable": "false",
                                        "bio": "",
                                        "twitter_username": "",
                                        "public_repos": 5,
                                        "public_gists": 0,
                                        "followers": 1,
                                        "following": 0,
                                        "created_at": "2018-12-06T08:54:05",
                                        "updated_at": "2022-09-05T05:56:43"
                                    },
                                    {
                                        "login": "1261385937",
                                        "type": "User",
                                        "site_admin": "false",
                                        "name": "Teach.Wang",
                                        "company": "",
                                        "blog": "https://blog.csdn.net/qq_15328161",
                                        "location": "hangzhou",
                                        "email": "Teach.WangW@gmail.com",
                                        "hireable": "false",
                                        "bio": "c++ fanatics and software engineer for data security\r\n",
                                        "twitter_username": "",
                                        "public_repos": 69,
                                        "public_gists": 0,
                                        "followers": 5,
                                        "following": 0,
                                        "created_at": "2016-06-08T03:09:45",
                                        "updated_at": "2023-07-28T12:32:28"
                                    },
                                    {
                                        "login": "127",
                                        "type": "User",
                                        "site_admin": "false",
                                        "name": "Marat Mamyashev",
                                        "company": "",
                                        "blog": "",
                                        "location": "Cyprus",
                                        "email": "",
                                        "hireable": "true",
                                        "bio": "",
                                        "twitter_username": "",
                                        "public_repos": 20,
                                        "public_gists": 10,
                                        "followers": 6,
                                        "following": 7,
                                        "created_at": "2012-04-16T10:50:51",
                                        "updated_at": "2023-07-04T09:32:36"
                                    },
                                    {
                                        "login": "1290708840",
                                        "type": "User",
                                        "site_admin": "false",
                                        "name": "",
                                        "company": "",
                                        "blog": "",
                                        "location": "",
                                        "email": "",
                                        "hireable": "false",
                                        "bio": "",
                                        "twitter_username": "",
                                        "public_repos": 1,
                                        "public_gists": 0,
                                        "followers": 0,
                                        "following": 0,
                                        "created_at": "2018-08-04T12:11:51",
                                        "updated_at": "2022-06-18T02:06:27"
                                    },
                                    {
                                        "login": "12dollar",
                                        "type": "User",
                                        "site_admin": "false",
                                        "name": "",
                                        "company": "",
                                        "blog": "",
                                        "location": "",
                                        "email": "",
                                        "hireable": "false",
                                        "bio": "Senior programmer with C, C++ background (compiler construction) & Java/COBOL. Lately jumped into mobile app dev. (Kotlin, Flutter). Now learning web dev.",
                                        "twitter_username": "",
                                        "public_repos": 2,
                                        "public_gists": 0,
                                        "followers": 0,
                                        "following": 0,
                                        "created_at": "2014-03-09T21:48:59",
                                        "updated_at": "2023-07-18T18:53:41"
                                    },
                                    {
                                        "login": "12frame",
                                        "type": "User",
                                        "site_admin": "false",
                                        "name": "",
                                        "company": "",
                                        "blog": "",
                                        "location": "",
                                        "email": "",
                                        "hireable": "false",
                                        "bio": "",
                                        "twitter_username": "",
                                        "public_repos": 1,
                                        "public_gists": 0,
                                        "followers": 0,
                                        "following": 1,
                                        "created_at": "2020-04-19T01:29:09",
                                        "updated_at": "2023-07-04T03:34:49"
                                    },
                                    {
                                        "login": "131250131",
                                        "type": "User",
                                        "site_admin": "false",
                                        "name": "Shengchao Chen",
                                        "company": "CC.AI",
                                        "blog": "",
                                        "location": "",
                                        "email": "csc13@smail.nju.edu.cn",
                                        "hireable": "true",
                                        "bio": "engineer.",
                                        "twitter_username": "",
                                        "public_repos": 13,
                                        "public_gists": 0,
                                        "followers": 21,
                                        "following": 61,
                                        "created_at": "2014-03-14T10:56:52",
                                        "updated_at": "2023-05-05T05:11:46"
                                    },
                                    {
                                        "login": "1332498780",
                                        "type": "User",
                                        "site_admin": "false",
                                        "name": "huangzhuyun",
                                        "company": "haohan",
                                        "blog": "",
                                        "location": "BeiJing China",
                                        "email": "",
                                        "hireable": "false",
                                        "bio": "a new person.",
                                        "twitter_username": "",
                                        "public_repos": 29,
                                        "public_gists": 0,
                                        "followers": 2,
                                        "following": 1,
                                        "created_at": "2016-08-25T04:42:50",
                                        "updated_at": "2023-05-24T14:04:40"
                                    },
                                    {
                                        "login": "1340691923",
                                        "type": "User",
                                        "site_admin": "false",
                                        "name": "肖文",
                                        "company": "",
                                        "blog": "",
                                        "location": "湖南长沙",
                                        "email": "",
                                        "hireable": "false",
                                        "bio": "代码有价",
                                        "twitter_username": "",
                                        "public_repos": 53,
                                        "public_gists": 0,
                                        "followers": 42,
                                        "following": 16,
                                        "created_at": "2018-04-15T11:10:39",
                                        "updated_at": "2023-07-14T02:18:58"
                                    },
                                    {
                                        "login": "13567436138",
                                        "type": "User",
                                        "site_admin": "false",
                                        "name": "huangxiaoping",
                                        "company": "",
                                        "blog": "blog.csdn.net/hxpjava1",
                                        "location": "china",
                                        "email": "",
                                        "hireable": "false",
                                        "bio": "engneer",
                                        "twitter_username": "",
                                        "public_repos": 260,
                                        "public_gists": 1,
                                        "followers": 27,
                                        "following": 46,
                                        "created_at": "2017-08-31T11:31:03",
                                        "updated_at": "2023-04-08T04:59:33"
                                    },
                                    {
                                        "login": "1370378301",
                                        "type": "User",
                                        "site_admin": "false",
                                        "name": "",
                                        "company": "",
                                        "blog": "",
                                        "location": "",
                                        "email": "",
                                        "hireable": "false",
                                        "bio": "",
                                        "twitter_username": "",
                                        "public_repos": 3,
                                        "public_gists": 9,
                                        "followers": 9,
                                        "following": 98,
                                        "created_at": "2018-11-22T14:29:13",
                                        "updated_at": "2023-06-23T16:40:50"
                                    },
                                    {
                                        "login": "1372143376",
                                        "type": "User",
                                        "site_admin": "false",
                                        "name": "weixiaopeng",
                                        "company": "",
                                        "blog": "http://tools.wxpeng.cn",
                                        "location": "北京",
                                        "email": "1372143376@qq.com",
                                        "hireable": "false",
                                        "bio": "奔沙拉卡",
                                        "twitter_username": "",
                                        "public_repos": 4,
                                        "public_gists": 0,
                                        "followers": 2,
                                        "following": 9,
                                        "created_at": "2017-01-26T06:42:58",
                                        "updated_at": "2023-05-29T12:14:49"
                                    }
                                ]
                            }
                        },
                        "text/plain": "<deepnote_toolkit.chart.DeepnoteChart at 0x7fc22c687c40>"
                    },
                    "metadata": {}
                }
            ],
            "outputs_reference": "s3:deepnote-cell-outputs-production/f51cfd50-82bb-4545-91f3-e00861cabe61"
        },
        {
            "cell_type": "markdown",
            "metadata": {
                "color": "purple",
                "formattedRanges": [],
                "cell_id": "f64b5888cdf8401ab571db85b40847ee",
                "deepnote_cell_type": "text-cell-callout"
            },
            "source": "> Create a nice analysis from the available actors",
            "block_group": "e661efae1d8c4565a7582637d7c01ea4"
        },
        {
            "cell_type": "markdown",
            "metadata": {
                "formattedRanges": [],
                "cell_id": "a910fe400773445dbf8dcd1bb475de40",
                "deepnote_cell_type": "text-cell-p"
            },
            "source": "Filter out unique insights from the available actors dataset (`df_2`) and create a concise analysis.",
            "block_group": "b5f8b35f13e34ca0955f6315a9e7d91d"
        },
        {
            "cell_type": "code",
            "metadata": {
                "source_hash": "9e2cc78c",
                "execution_start": 1745497287853,
                "execution_millis": 1,
                "execution_context_id": "653eebcc-ab87-4ccc-b912-e4f8ced4ce93",
                "cell_id": "1d7861e49a5a45d49d214b29e6532ea2",
                "deepnote_cell_type": "code"
            },
            "source": "# Display the structure and first few rows of the dataset to understand its content\ndf_2.info()",
            "block_group": "a65a78da88a7493f85fc9a036cb49c39",
            "execution_count": 67,
            "outputs": [
                {
                    "name": "stdout",
                    "text": "<class 'pandas.core.frame.DataFrame'>\nRangeIndex: 100 entries, 0 to 99\nData columns (total 17 columns):\n #   Column            Non-Null Count  Dtype         \n---  ------            --------------  -----         \n 0   login             100 non-null    object        \n 1   type              100 non-null    object        \n 2   site_admin        100 non-null    object        \n 3   name              100 non-null    object        \n 4   company           100 non-null    object        \n 5   blog              100 non-null    object        \n 6   location          100 non-null    object        \n 7   email             100 non-null    object        \n 8   hireable          100 non-null    object        \n 9   bio               100 non-null    object        \n 10  twitter_username  100 non-null    object        \n 11  public_repos      100 non-null    int64         \n 12  public_gists      100 non-null    int64         \n 13  followers         100 non-null    int64         \n 14  following         100 non-null    int64         \n 15  created_at        100 non-null    datetime64[ns]\n 16  updated_at        100 non-null    datetime64[ns]\ndtypes: datetime64[ns](2), int64(4), object(11)\nmemory usage: 13.4+ KB\n",
                    "output_type": "stream"
                }
            ],
            "outputs_reference": "s3:deepnote-cell-outputs-production/0ba32fd9-04fe-4abb-a908-cf6acb309528",
            "content_dependencies": null
        },
        {
            "cell_type": "code",
            "metadata": {
                "source_hash": "617254a4",
                "execution_start": 1745497291334,
                "execution_millis": 0,
                "execution_context_id": "653eebcc-ab87-4ccc-b912-e4f8ced4ce93",
                "cell_id": "014be41b5aa747ac83e9c9907e5f1d71",
                "deepnote_cell_type": "code"
            },
            "source": "# Preview the first 5 rows of the dataset\ndf_2.head()",
            "block_group": "74192284264b4c8b92426dfeed193fb6",
            "execution_count": 70,
            "outputs": [
                {
                    "output_type": "execute_result",
                    "execution_count": 70,
                    "data": {
                        "application/vnd.deepnote.dataframe.v3+json": {
                            "column_count": 17,
                            "row_count": 5,
                            "columns": [
                                {
                                    "name": "login",
                                    "dtype": "object",
                                    "stats": {
                                        "unique_count": 5,
                                        "nan_count": 0,
                                        "categories": [
                                            {
                                                "name": "0000Blaze",
                                                "count": 1
                                            },
                                            {
                                                "name": "007developforfun",
                                                "count": 1
                                            },
                                            {
                                                "name": "3 others",
                                                "count": 3
                                            }
                                        ]
                                    }
                                },
                                {
                                    "name": "type",
                                    "dtype": "object",
                                    "stats": {
                                        "unique_count": 1,
                                        "nan_count": 0,
                                        "categories": [
                                            {
                                                "name": "User",
                                                "count": 5
                                            }
                                        ]
                                    }
                                },
                                {
                                    "name": "site_admin",
                                    "dtype": "object",
                                    "stats": {
                                        "unique_count": 1,
                                        "nan_count": 0,
                                        "categories": [
                                            {
                                                "name": "false",
                                                "count": 5
                                            }
                                        ]
                                    }
                                },
                                {
                                    "name": "name",
                                    "dtype": "object",
                                    "stats": {
                                        "unique_count": 4,
                                        "nan_count": 0,
                                        "categories": [
                                            {
                                                "name": "",
                                                "count": 2
                                            },
                                            {
                                                "name": "RohanChhetry",
                                                "count": 1
                                            },
                                            {
                                                "name": "2 others",
                                                "count": 2
                                            }
                                        ]
                                    }
                                },
                                {
                                    "name": "company",
                                    "dtype": "object",
                                    "stats": {
                                        "unique_count": 2,
                                        "nan_count": 0,
                                        "categories": [
                                            {
                                                "name": "",
                                                "count": 4
                                            },
                                            {
                                                "name": "Pulchowk Campus,IOE",
                                                "count": 1
                                            }
                                        ]
                                    }
                                },
                                {
                                    "name": "blog",
                                    "dtype": "object",
                                    "stats": {
                                        "unique_count": 2,
                                        "nan_count": 0,
                                        "categories": [
                                            {
                                                "name": "",
                                                "count": 4
                                            },
                                            {
                                                "name": "rohanchhetry.com.np",
                                                "count": 1
                                            }
                                        ]
                                    }
                                },
                                {
                                    "name": "location",
                                    "dtype": "object",
                                    "stats": {
                                        "unique_count": 3,
                                        "nan_count": 0,
                                        "categories": [
                                            {
                                                "name": "",
                                                "count": 3
                                            },
                                            {
                                                "name": "Sanepa , Lalitpur",
                                                "count": 1
                                            },
                                            {
                                                "name": "Beijing, China",
                                                "count": 1
                                            }
                                        ]
                                    }
                                },
                                {
                                    "name": "email",
                                    "dtype": "object",
                                    "stats": {
                                        "unique_count": 3,
                                        "nan_count": 0,
                                        "categories": [
                                            {
                                                "name": "",
                                                "count": 3
                                            },
                                            {
                                                "name": "yang_yapo@126.com",
                                                "count": 1
                                            },
                                            {
                                                "name": "1025394547@qq.com",
                                                "count": 1
                                            }
                                        ]
                                    }
                                },
                                {
                                    "name": "hireable",
                                    "dtype": "object",
                                    "stats": {
                                        "unique_count": 2,
                                        "nan_count": 0,
                                        "categories": [
                                            {
                                                "name": "false",
                                                "count": 4
                                            },
                                            {
                                                "name": "true",
                                                "count": 1
                                            }
                                        ]
                                    }
                                },
                                {
                                    "name": "bio",
                                    "dtype": "object",
                                    "stats": {
                                        "unique_count": 2,
                                        "nan_count": 0,
                                        "categories": [
                                            {
                                                "name": "",
                                                "count": 4
                                            },
                                            {
                                                "name": "Programmer, Writer and Full-Time Learner.",
                                                "count": 1
                                            }
                                        ]
                                    }
                                },
                                {
                                    "name": "twitter_username",
                                    "dtype": "object",
                                    "stats": {
                                        "unique_count": 2,
                                        "nan_count": 0,
                                        "categories": [
                                            {
                                                "name": "",
                                                "count": 4
                                            },
                                            {
                                                "name": "rohanchhetry9",
                                                "count": 1
                                            }
                                        ]
                                    }
                                },
                                {
                                    "name": "public_repos",
                                    "dtype": "int64",
                                    "stats": {
                                        "unique_count": 5,
                                        "nan_count": 0,
                                        "min": "0",
                                        "max": "72",
                                        "histogram": [
                                            {
                                                "bin_start": 0,
                                                "bin_end": 7.2,
                                                "count": 1
                                            },
                                            {
                                                "bin_start": 7.2,
                                                "bin_end": 14.4,
                                                "count": 1
                                            },
                                            {
                                                "bin_start": 14.4,
                                                "bin_end": 21.6,
                                                "count": 1
                                            },
                                            {
                                                "bin_start": 21.6,
                                                "bin_end": 28.8,
                                                "count": 0
                                            },
                                            {
                                                "bin_start": 28.8,
                                                "bin_end": 36,
                                                "count": 0
                                            },
                                            {
                                                "bin_start": 36,
                                                "bin_end": 43.2,
                                                "count": 0
                                            },
                                            {
                                                "bin_start": 43.2,
                                                "bin_end": 50.4,
                                                "count": 0
                                            },
                                            {
                                                "bin_start": 50.4,
                                                "bin_end": 57.6,
                                                "count": 1
                                            },
                                            {
                                                "bin_start": 57.6,
                                                "bin_end": 64.8,
                                                "count": 0
                                            },
                                            {
                                                "bin_start": 64.8,
                                                "bin_end": 72,
                                                "count": 1
                                            }
                                        ]
                                    }
                                },
                                {
                                    "name": "public_gists",
                                    "dtype": "int64",
                                    "stats": {
                                        "unique_count": 2,
                                        "nan_count": 0,
                                        "min": "0",
                                        "max": "1",
                                        "histogram": [
                                            {
                                                "bin_start": 0,
                                                "bin_end": 0.1,
                                                "count": 4
                                            },
                                            {
                                                "bin_start": 0.1,
                                                "bin_end": 0.2,
                                                "count": 0
                                            },
                                            {
                                                "bin_start": 0.2,
                                                "bin_end": 0.30000000000000004,
                                                "count": 0
                                            },
                                            {
                                                "bin_start": 0.30000000000000004,
                                                "bin_end": 0.4,
                                                "count": 0
                                            },
                                            {
                                                "bin_start": 0.4,
                                                "bin_end": 0.5,
                                                "count": 0
                                            },
                                            {
                                                "bin_start": 0.5,
                                                "bin_end": 0.6000000000000001,
                                                "count": 0
                                            },
                                            {
                                                "bin_start": 0.6000000000000001,
                                                "bin_end": 0.7000000000000001,
                                                "count": 0
                                            },
                                            {
                                                "bin_start": 0.7000000000000001,
                                                "bin_end": 0.8,
                                                "count": 0
                                            },
                                            {
                                                "bin_start": 0.8,
                                                "bin_end": 0.9,
                                                "count": 0
                                            },
                                            {
                                                "bin_start": 0.9,
                                                "bin_end": 1,
                                                "count": 1
                                            }
                                        ]
                                    }
                                },
                                {
                                    "name": "followers",
                                    "dtype": "int64",
                                    "stats": {
                                        "unique_count": 4,
                                        "nan_count": 0,
                                        "min": "0",
                                        "max": "57",
                                        "histogram": [
                                            {
                                                "bin_start": 0,
                                                "bin_end": 5.7,
                                                "count": 4
                                            },
                                            {
                                                "bin_start": 5.7,
                                                "bin_end": 11.4,
                                                "count": 0
                                            },
                                            {
                                                "bin_start": 11.4,
                                                "bin_end": 17.1,
                                                "count": 0
                                            },
                                            {
                                                "bin_start": 17.1,
                                                "bin_end": 22.8,
                                                "count": 0
                                            },
                                            {
                                                "bin_start": 22.8,
                                                "bin_end": 28.5,
                                                "count": 0
                                            },
                                            {
                                                "bin_start": 28.5,
                                                "bin_end": 34.2,
                                                "count": 0
                                            },
                                            {
                                                "bin_start": 34.2,
                                                "bin_end": 39.9,
                                                "count": 0
                                            },
                                            {
                                                "bin_start": 39.9,
                                                "bin_end": 45.6,
                                                "count": 0
                                            },
                                            {
                                                "bin_start": 45.6,
                                                "bin_end": 51.300000000000004,
                                                "count": 0
                                            },
                                            {
                                                "bin_start": 51.300000000000004,
                                                "bin_end": 57,
                                                "count": 1
                                            }
                                        ]
                                    }
                                },
                                {
                                    "name": "following",
                                    "dtype": "int64",
                                    "stats": {
                                        "unique_count": 4,
                                        "nan_count": 0,
                                        "min": "0",
                                        "max": "83",
                                        "histogram": [
                                            {
                                                "bin_start": 0,
                                                "bin_end": 8.3,
                                                "count": 3
                                            },
                                            {
                                                "bin_start": 8.3,
                                                "bin_end": 16.6,
                                                "count": 0
                                            },
                                            {
                                                "bin_start": 16.6,
                                                "bin_end": 24.900000000000002,
                                                "count": 0
                                            },
                                            {
                                                "bin_start": 24.900000000000002,
                                                "bin_end": 33.2,
                                                "count": 0
                                            },
                                            {
                                                "bin_start": 33.2,
                                                "bin_end": 41.5,
                                                "count": 0
                                            },
                                            {
                                                "bin_start": 41.5,
                                                "bin_end": 49.800000000000004,
                                                "count": 0
                                            },
                                            {
                                                "bin_start": 49.800000000000004,
                                                "bin_end": 58.10000000000001,
                                                "count": 0
                                            },
                                            {
                                                "bin_start": 58.10000000000001,
                                                "bin_end": 66.4,
                                                "count": 1
                                            },
                                            {
                                                "bin_start": 66.4,
                                                "bin_end": 74.7,
                                                "count": 0
                                            },
                                            {
                                                "bin_start": 74.7,
                                                "bin_end": 83,
                                                "count": 1
                                            }
                                        ]
                                    }
                                },
                                {
                                    "name": "created_at",
                                    "dtype": "datetime64[ns]",
                                    "stats": {
                                        "unique_count": 5,
                                        "nan_count": 0,
                                        "min": "2015-02-05 03:11:59",
                                        "max": "2019-02-24 02:31:21",
                                        "histogram": [
                                            {
                                                "bin_start": 1423105919000000000,
                                                "bin_end": 1435892875200000000,
                                                "count": 1
                                            },
                                            {
                                                "bin_start": 1435892875200000000,
                                                "bin_end": 1448679831400000000,
                                                "count": 1
                                            },
                                            {
                                                "bin_start": 1448679831400000000,
                                                "bin_end": 1461466787600000000,
                                                "count": 0
                                            },
                                            {
                                                "bin_start": 1461466787600000000,
                                                "bin_end": 1474253743800000000,
                                                "count": 0
                                            },
                                            {
                                                "bin_start": 1474253743800000000,
                                                "bin_end": 1487040700000000000,
                                                "count": 1
                                            },
                                            {
                                                "bin_start": 1487040700000000000,
                                                "bin_end": 1499827656200000000,
                                                "count": 1
                                            },
                                            {
                                                "bin_start": 1499827656200000000,
                                                "bin_end": 1512614612400000000,
                                                "count": 0
                                            },
                                            {
                                                "bin_start": 1512614612400000000,
                                                "bin_end": 1525401568600000000,
                                                "count": 0
                                            },
                                            {
                                                "bin_start": 1525401568600000000,
                                                "bin_end": 1538188524800000000,
                                                "count": 0
                                            },
                                            {
                                                "bin_start": 1538188524800000000,
                                                "bin_end": 1550975481000000000,
                                                "count": 1
                                            }
                                        ]
                                    }
                                },
                                {
                                    "name": "updated_at",
                                    "dtype": "datetime64[ns]",
                                    "stats": {
                                        "unique_count": 5,
                                        "nan_count": 0,
                                        "min": "2022-08-12 08:45:30",
                                        "max": "2023-07-30 11:30:14",
                                        "histogram": [
                                            {
                                                "bin_start": 1660293930000000000,
                                                "bin_end": 1663336198400000000,
                                                "count": 1
                                            },
                                            {
                                                "bin_start": 1663336198400000000,
                                                "bin_end": 1666378466800000000,
                                                "count": 0
                                            },
                                            {
                                                "bin_start": 1666378466800000000,
                                                "bin_end": 1669420735200000000,
                                                "count": 0
                                            },
                                            {
                                                "bin_start": 1669420735200000000,
                                                "bin_end": 1672463003600000000,
                                                "count": 0
                                            },
                                            {
                                                "bin_start": 1672463003600000000,
                                                "bin_end": 1675505272000000000,
                                                "count": 0
                                            },
                                            {
                                                "bin_start": 1675505272000000000,
                                                "bin_end": 1678547540400000000,
                                                "count": 0
                                            },
                                            {
                                                "bin_start": 1678547540400000000,
                                                "bin_end": 1681589808800000000,
                                                "count": 1
                                            },
                                            {
                                                "bin_start": 1681589808800000000,
                                                "bin_end": 1684632077200000000,
                                                "count": 0
                                            },
                                            {
                                                "bin_start": 1684632077200000000,
                                                "bin_end": 1687674345600000000,
                                                "count": 1
                                            },
                                            {
                                                "bin_start": 1687674345600000000,
                                                "bin_end": 1690716614000000000,
                                                "count": 2
                                            }
                                        ]
                                    }
                                },
                                {
                                    "name": "_deepnote_index_column",
                                    "dtype": "int64"
                                }
                            ],
                            "rows": [
                                {
                                    "login": "0000Blaze",
                                    "type": "User",
                                    "site_admin": "false",
                                    "name": "RohanChhetry",
                                    "company": "Pulchowk Campus,IOE",
                                    "blog": "rohanchhetry.com.np",
                                    "location": "Sanepa , Lalitpur",
                                    "email": "",
                                    "hireable": "true",
                                    "bio": "",
                                    "twitter_username": "rohanchhetry9",
                                    "public_repos": 56,
                                    "public_gists": 0,
                                    "followers": 57,
                                    "following": 83,
                                    "created_at": "2019-02-24 02:31:21",
                                    "updated_at": "2023-07-30 11:30:14",
                                    "_deepnote_index_column": 0
                                },
                                {
                                    "login": "007developforfun",
                                    "type": "User",
                                    "site_admin": "false",
                                    "name": "",
                                    "company": "",
                                    "blog": "",
                                    "location": "",
                                    "email": "",
                                    "hireable": "false",
                                    "bio": "",
                                    "twitter_username": "",
                                    "public_repos": 0,
                                    "public_gists": 0,
                                    "followers": 0,
                                    "following": 0,
                                    "created_at": "2015-08-07 11:28:01",
                                    "updated_at": "2022-08-12 08:45:30",
                                    "_deepnote_index_column": 1
                                },
                                {
                                    "login": "00arthur00",
                                    "type": "User",
                                    "site_admin": "false",
                                    "name": "Arthur",
                                    "company": "",
                                    "blog": "",
                                    "location": "Beijing, China",
                                    "email": "yang_yapo@126.com",
                                    "hireable": "false",
                                    "bio": "",
                                    "twitter_username": "",
                                    "public_repos": 72,
                                    "public_gists": 1,
                                    "followers": 5,
                                    "following": 61,
                                    "created_at": "2017-04-01 13:37:01",
                                    "updated_at": "2023-06-15 14:50:12",
                                    "_deepnote_index_column": 2
                                },
                                {
                                    "login": "010001",
                                    "type": "User",
                                    "site_admin": "false",
                                    "name": "",
                                    "company": "",
                                    "blog": "",
                                    "location": "",
                                    "email": "1025394547@qq.com",
                                    "hireable": "false",
                                    "bio": "",
                                    "twitter_username": "",
                                    "public_repos": 15,
                                    "public_gists": 0,
                                    "followers": 1,
                                    "following": 1,
                                    "created_at": "2015-02-05 03:11:59",
                                    "updated_at": "2023-03-17 06:07:01",
                                    "_deepnote_index_column": 3
                                },
                                {
                                    "login": "01001101ilad",
                                    "type": "User",
                                    "site_admin": "false",
                                    "name": "Milad",
                                    "company": "",
                                    "blog": "",
                                    "location": "",
                                    "email": "",
                                    "hireable": "false",
                                    "bio": "Programmer, Writer and Full-Time Learner.",
                                    "twitter_username": "",
                                    "public_repos": 10,
                                    "public_gists": 0,
                                    "followers": 0,
                                    "following": 0,
                                    "created_at": "2016-10-31 19:12:55",
                                    "updated_at": "2023-07-24 11:43:03",
                                    "_deepnote_index_column": 4
                                }
                            ],
                            "type": "dataframe"
                        },
                        "text/plain": "              login  type site_admin          name              company  \\\n0         0000Blaze  User      false  RohanChhetry  Pulchowk Campus,IOE   \n1  007developforfun  User      false                                      \n2        00arthur00  User      false        Arthur                        \n3            010001  User      false                                      \n4      01001101ilad  User      false         Milad                        \n\n                  blog           location              email hireable  \\\n0  rohanchhetry.com.np  Sanepa , Lalitpur                        true   \n1                                                               false   \n2                          Beijing, China  yang_yapo@126.com    false   \n3                                          1025394547@qq.com    false   \n4                                                               false   \n\n                                         bio twitter_username  public_repos  \\\n0                                               rohanchhetry9            56   \n1                                                                         0   \n2                                                                        72   \n3                                                                        15   \n4  Programmer, Writer and Full-Time Learner.                             10   \n\n   public_gists  followers  following          created_at          updated_at  \n0             0         57         83 2019-02-24 02:31:21 2023-07-30 11:30:14  \n1             0          0          0 2015-08-07 11:28:01 2022-08-12 08:45:30  \n2             1          5         61 2017-04-01 13:37:01 2023-06-15 14:50:12  \n3             0          1          1 2015-02-05 03:11:59 2023-03-17 06:07:01  \n4             0          0          0 2016-10-31 19:12:55 2023-07-24 11:43:03  ",
                        "text/html": "<div>\n<style scoped>\n    .dataframe tbody tr th:only-of-type {\n        vertical-align: middle;\n    }\n\n    .dataframe tbody tr th {\n        vertical-align: top;\n    }\n\n    .dataframe thead th {\n        text-align: right;\n    }\n</style>\n<table border=\"1\" class=\"dataframe\">\n  <thead>\n    <tr style=\"text-align: right;\">\n      <th></th>\n      <th>login</th>\n      <th>type</th>\n      <th>site_admin</th>\n      <th>name</th>\n      <th>company</th>\n      <th>blog</th>\n      <th>location</th>\n      <th>email</th>\n      <th>hireable</th>\n      <th>bio</th>\n      <th>twitter_username</th>\n      <th>public_repos</th>\n      <th>public_gists</th>\n      <th>followers</th>\n      <th>following</th>\n      <th>created_at</th>\n      <th>updated_at</th>\n    </tr>\n  </thead>\n  <tbody>\n    <tr>\n      <th>0</th>\n      <td>0000Blaze</td>\n      <td>User</td>\n      <td>false</td>\n      <td>RohanChhetry</td>\n      <td>Pulchowk Campus,IOE</td>\n      <td>rohanchhetry.com.np</td>\n      <td>Sanepa , Lalitpur</td>\n      <td></td>\n      <td>true</td>\n      <td></td>\n      <td>rohanchhetry9</td>\n      <td>56</td>\n      <td>0</td>\n      <td>57</td>\n      <td>83</td>\n      <td>2019-02-24 02:31:21</td>\n      <td>2023-07-30 11:30:14</td>\n    </tr>\n    <tr>\n      <th>1</th>\n      <td>007developforfun</td>\n      <td>User</td>\n      <td>false</td>\n      <td></td>\n      <td></td>\n      <td></td>\n      <td></td>\n      <td></td>\n      <td>false</td>\n      <td></td>\n      <td></td>\n      <td>0</td>\n      <td>0</td>\n      <td>0</td>\n      <td>0</td>\n      <td>2015-08-07 11:28:01</td>\n      <td>2022-08-12 08:45:30</td>\n    </tr>\n    <tr>\n      <th>2</th>\n      <td>00arthur00</td>\n      <td>User</td>\n      <td>false</td>\n      <td>Arthur</td>\n      <td></td>\n      <td></td>\n      <td>Beijing, China</td>\n      <td>yang_yapo@126.com</td>\n      <td>false</td>\n      <td></td>\n      <td></td>\n      <td>72</td>\n      <td>1</td>\n      <td>5</td>\n      <td>61</td>\n      <td>2017-04-01 13:37:01</td>\n      <td>2023-06-15 14:50:12</td>\n    </tr>\n    <tr>\n      <th>3</th>\n      <td>010001</td>\n      <td>User</td>\n      <td>false</td>\n      <td></td>\n      <td></td>\n      <td></td>\n      <td></td>\n      <td>1025394547@qq.com</td>\n      <td>false</td>\n      <td></td>\n      <td></td>\n      <td>15</td>\n      <td>0</td>\n      <td>1</td>\n      <td>1</td>\n      <td>2015-02-05 03:11:59</td>\n      <td>2023-03-17 06:07:01</td>\n    </tr>\n    <tr>\n      <th>4</th>\n      <td>01001101ilad</td>\n      <td>User</td>\n      <td>false</td>\n      <td>Milad</td>\n      <td></td>\n      <td></td>\n      <td></td>\n      <td></td>\n      <td>false</td>\n      <td>Programmer, Writer and Full-Time Learner.</td>\n      <td></td>\n      <td>10</td>\n      <td>0</td>\n      <td>0</td>\n      <td>0</td>\n      <td>2016-10-31 19:12:55</td>\n      <td>2023-07-24 11:43:03</td>\n    </tr>\n  </tbody>\n</table>\n</div>"
                    },
                    "metadata": {}
                }
            ],
            "outputs_reference": "s3:deepnote-cell-outputs-production/43a699fc-e317-4222-83a4-742d2b7b1955",
            "content_dependencies": null
        },
        {
            "cell_type": "code",
            "metadata": {
                "source_hash": "ff31ce97",
                "execution_start": 1745497294103,
                "execution_millis": 20,
                "execution_context_id": "653eebcc-ab87-4ccc-b912-e4f8ced4ce93",
                "cell_id": "749f862769554047895d614f23763b1c",
                "deepnote_cell_type": "code"
            },
            "source": "# General Description of numeric/statistical columns\ndf_2.describe()",
            "block_group": "a84f7e5065ee45c0b5572520ee4b17d3",
            "execution_count": 73,
            "outputs": [
                {
                    "output_type": "execute_result",
                    "execution_count": 73,
                    "data": {
                        "application/vnd.deepnote.dataframe.v3+json": {
                            "column_count": 6,
                            "row_count": 8,
                            "columns": [
                                {
                                    "name": "public_repos",
                                    "dtype": "float64",
                                    "stats": {
                                        "unique_count": 8,
                                        "nan_count": 0,
                                        "min": "0.0",
                                        "max": "2448.0",
                                        "histogram": [
                                            {
                                                "bin_start": 0,
                                                "bin_end": 244.8,
                                                "count": 6
                                            },
                                            {
                                                "bin_start": 244.8,
                                                "bin_end": 489.6,
                                                "count": 1
                                            },
                                            {
                                                "bin_start": 489.6,
                                                "bin_end": 734.4000000000001,
                                                "count": 0
                                            },
                                            {
                                                "bin_start": 734.4000000000001,
                                                "bin_end": 979.2,
                                                "count": 0
                                            },
                                            {
                                                "bin_start": 979.2,
                                                "bin_end": 1224,
                                                "count": 0
                                            },
                                            {
                                                "bin_start": 1224,
                                                "bin_end": 1468.8000000000002,
                                                "count": 0
                                            },
                                            {
                                                "bin_start": 1468.8000000000002,
                                                "bin_end": 1713.6000000000001,
                                                "count": 0
                                            },
                                            {
                                                "bin_start": 1713.6000000000001,
                                                "bin_end": 1958.4,
                                                "count": 0
                                            },
                                            {
                                                "bin_start": 1958.4,
                                                "bin_end": 2203.2000000000003,
                                                "count": 0
                                            },
                                            {
                                                "bin_start": 2203.2000000000003,
                                                "bin_end": 2448,
                                                "count": 1
                                            }
                                        ]
                                    }
                                },
                                {
                                    "name": "public_gists",
                                    "dtype": "float64",
                                    "stats": {
                                        "unique_count": 6,
                                        "nan_count": 0,
                                        "min": "0.0",
                                        "max": "197.0",
                                        "histogram": [
                                            {
                                                "bin_start": 0,
                                                "bin_end": 19.7,
                                                "count": 5
                                            },
                                            {
                                                "bin_start": 19.7,
                                                "bin_end": 39.4,
                                                "count": 1
                                            },
                                            {
                                                "bin_start": 39.4,
                                                "bin_end": 59.099999999999994,
                                                "count": 0
                                            },
                                            {
                                                "bin_start": 59.099999999999994,
                                                "bin_end": 78.8,
                                                "count": 0
                                            },
                                            {
                                                "bin_start": 78.8,
                                                "bin_end": 98.5,
                                                "count": 0
                                            },
                                            {
                                                "bin_start": 98.5,
                                                "bin_end": 118.19999999999999,
                                                "count": 1
                                            },
                                            {
                                                "bin_start": 118.19999999999999,
                                                "bin_end": 137.9,
                                                "count": 0
                                            },
                                            {
                                                "bin_start": 137.9,
                                                "bin_end": 157.6,
                                                "count": 0
                                            },
                                            {
                                                "bin_start": 157.6,
                                                "bin_end": 177.29999999999998,
                                                "count": 0
                                            },
                                            {
                                                "bin_start": 177.29999999999998,
                                                "bin_end": 197,
                                                "count": 1
                                            }
                                        ]
                                    }
                                },
                                {
                                    "name": "followers",
                                    "dtype": "float64",
                                    "stats": {
                                        "unique_count": 8,
                                        "nan_count": 0,
                                        "min": "0.0",
                                        "max": "980.0",
                                        "histogram": [
                                            {
                                                "bin_start": 0,
                                                "bin_end": 98,
                                                "count": 5
                                            },
                                            {
                                                "bin_start": 98,
                                                "bin_end": 196,
                                                "count": 2
                                            },
                                            {
                                                "bin_start": 196,
                                                "bin_end": 294,
                                                "count": 0
                                            },
                                            {
                                                "bin_start": 294,
                                                "bin_end": 392,
                                                "count": 0
                                            },
                                            {
                                                "bin_start": 392,
                                                "bin_end": 490,
                                                "count": 0
                                            },
                                            {
                                                "bin_start": 490,
                                                "bin_end": 588,
                                                "count": 0
                                            },
                                            {
                                                "bin_start": 588,
                                                "bin_end": 686,
                                                "count": 0
                                            },
                                            {
                                                "bin_start": 686,
                                                "bin_end": 784,
                                                "count": 0
                                            },
                                            {
                                                "bin_start": 784,
                                                "bin_end": 882,
                                                "count": 0
                                            },
                                            {
                                                "bin_start": 882,
                                                "bin_end": 980,
                                                "count": 1
                                            }
                                        ]
                                    }
                                },
                                {
                                    "name": "following",
                                    "dtype": "float64",
                                    "stats": {
                                        "unique_count": 8,
                                        "nan_count": 0,
                                        "min": "0.0",
                                        "max": "625.0",
                                        "histogram": [
                                            {
                                                "bin_start": 0,
                                                "bin_end": 62.5,
                                                "count": 5
                                            },
                                            {
                                                "bin_start": 62.5,
                                                "bin_end": 125,
                                                "count": 2
                                            },
                                            {
                                                "bin_start": 125,
                                                "bin_end": 187.5,
                                                "count": 0
                                            },
                                            {
                                                "bin_start": 187.5,
                                                "bin_end": 250,
                                                "count": 0
                                            },
                                            {
                                                "bin_start": 250,
                                                "bin_end": 312.5,
                                                "count": 0
                                            },
                                            {
                                                "bin_start": 312.5,
                                                "bin_end": 375,
                                                "count": 0
                                            },
                                            {
                                                "bin_start": 375,
                                                "bin_end": 437.5,
                                                "count": 0
                                            },
                                            {
                                                "bin_start": 437.5,
                                                "bin_end": 500,
                                                "count": 0
                                            },
                                            {
                                                "bin_start": 500,
                                                "bin_end": 562.5,
                                                "count": 0
                                            },
                                            {
                                                "bin_start": 562.5,
                                                "bin_end": 625,
                                                "count": 1
                                            }
                                        ]
                                    }
                                },
                                {
                                    "name": "created_at",
                                    "dtype": "object",
                                    "stats": {
                                        "unique_count": 7,
                                        "nan_count": 1,
                                        "categories": [
                                            {
                                                "name": "100",
                                                "count": 1
                                            },
                                            {
                                                "name": "6 others",
                                                "count": 6
                                            },
                                            {
                                                "name": "Missing",
                                                "count": 1
                                            }
                                        ]
                                    }
                                },
                                {
                                    "name": "updated_at",
                                    "dtype": "object",
                                    "stats": {
                                        "unique_count": 7,
                                        "nan_count": 1,
                                        "categories": [
                                            {
                                                "name": "100",
                                                "count": 1
                                            },
                                            {
                                                "name": "6 others",
                                                "count": 6
                                            },
                                            {
                                                "name": "Missing",
                                                "count": 1
                                            }
                                        ]
                                    }
                                },
                                {
                                    "name": "_deepnote_index_column",
                                    "dtype": "object"
                                }
                            ],
                            "rows": [
                                {
                                    "public_repos": 100,
                                    "public_gists": 100,
                                    "followers": 100,
                                    "following": 100,
                                    "created_at": "100",
                                    "updated_at": "100",
                                    "_deepnote_index_column": "count"
                                },
                                {
                                    "public_repos": 67.96,
                                    "public_gists": 3.82,
                                    "followers": 39.83,
                                    "following": 57.02,
                                    "created_at": "2016-09-10 17:53:16.070000128",
                                    "updated_at": "2023-03-31 01:33:30.419999744",
                                    "_deepnote_index_column": "mean"
                                },
                                {
                                    "public_repos": 0,
                                    "public_gists": 0,
                                    "followers": 0,
                                    "following": 0,
                                    "created_at": "2009-04-29 03:15:30",
                                    "updated_at": "2021-05-01 04:02:08",
                                    "_deepnote_index_column": "min"
                                },
                                {
                                    "public_repos": 4,
                                    "public_gists": 0,
                                    "followers": 1.75,
                                    "following": 1,
                                    "created_at": "2014-07-25 17:55:51.500000",
                                    "updated_at": "2023-03-25 09:35:19.249999872",
                                    "_deepnote_index_column": "25%"
                                },
                                {
                                    "public_repos": 13,
                                    "public_gists": 0,
                                    "followers": 8,
                                    "following": 9.5,
                                    "created_at": "2016-09-06 03:37:49.500000",
                                    "updated_at": "2023-07-01 22:06:38.500000",
                                    "_deepnote_index_column": "50%"
                                },
                                {
                                    "public_repos": 37.25,
                                    "public_gists": 1,
                                    "followers": 27.75,
                                    "following": 50,
                                    "created_at": "2019-02-24 22:08:15.750000128",
                                    "updated_at": "2023-07-21 23:04:04.500000",
                                    "_deepnote_index_column": "75%"
                                },
                                {
                                    "public_repos": 2448,
                                    "public_gists": 197,
                                    "followers": 980,
                                    "following": 625,
                                    "created_at": "2023-04-09 08:25:52",
                                    "updated_at": "2023-08-05 14:17:11",
                                    "_deepnote_index_column": "max"
                                },
                                {
                                    "public_repos": 268.0889691008105,
                                    "public_gists": 20.165667393224098,
                                    "followers": 116.73063657477208,
                                    "following": 121.00855466879317,
                                    "created_at": "nan",
                                    "updated_at": "nan",
                                    "_deepnote_index_column": "std"
                                }
                            ],
                            "type": "dataframe"
                        },
                        "text/plain": "       public_repos  public_gists   followers   following  \\\ncount    100.000000    100.000000  100.000000  100.000000   \nmean      67.960000      3.820000   39.830000   57.020000   \nmin        0.000000      0.000000    0.000000    0.000000   \n25%        4.000000      0.000000    1.750000    1.000000   \n50%       13.000000      0.000000    8.000000    9.500000   \n75%       37.250000      1.000000   27.750000   50.000000   \nmax     2448.000000    197.000000  980.000000  625.000000   \nstd      268.088969     20.165667  116.730637  121.008555   \n\n                          created_at                     updated_at  \ncount                            100                            100  \nmean   2016-09-10 17:53:16.070000128  2023-03-31 01:33:30.419999744  \nmin              2009-04-29 03:15:30            2021-05-01 04:02:08  \n25%       2014-07-25 17:55:51.500000  2023-03-25 09:35:19.249999872  \n50%       2016-09-06 03:37:49.500000     2023-07-01 22:06:38.500000  \n75%    2019-02-24 22:08:15.750000128     2023-07-21 23:04:04.500000  \nmax              2023-04-09 08:25:52            2023-08-05 14:17:11  \nstd                              NaN                            NaN  ",
                        "text/html": "<div>\n<style scoped>\n    .dataframe tbody tr th:only-of-type {\n        vertical-align: middle;\n    }\n\n    .dataframe tbody tr th {\n        vertical-align: top;\n    }\n\n    .dataframe thead th {\n        text-align: right;\n    }\n</style>\n<table border=\"1\" class=\"dataframe\">\n  <thead>\n    <tr style=\"text-align: right;\">\n      <th></th>\n      <th>public_repos</th>\n      <th>public_gists</th>\n      <th>followers</th>\n      <th>following</th>\n      <th>created_at</th>\n      <th>updated_at</th>\n    </tr>\n  </thead>\n  <tbody>\n    <tr>\n      <th>count</th>\n      <td>100.000000</td>\n      <td>100.000000</td>\n      <td>100.000000</td>\n      <td>100.000000</td>\n      <td>100</td>\n      <td>100</td>\n    </tr>\n    <tr>\n      <th>mean</th>\n      <td>67.960000</td>\n      <td>3.820000</td>\n      <td>39.830000</td>\n      <td>57.020000</td>\n      <td>2016-09-10 17:53:16.070000128</td>\n      <td>2023-03-31 01:33:30.419999744</td>\n    </tr>\n    <tr>\n      <th>min</th>\n      <td>0.000000</td>\n      <td>0.000000</td>\n      <td>0.000000</td>\n      <td>0.000000</td>\n      <td>2009-04-29 03:15:30</td>\n      <td>2021-05-01 04:02:08</td>\n    </tr>\n    <tr>\n      <th>25%</th>\n      <td>4.000000</td>\n      <td>0.000000</td>\n      <td>1.750000</td>\n      <td>1.000000</td>\n      <td>2014-07-25 17:55:51.500000</td>\n      <td>2023-03-25 09:35:19.249999872</td>\n    </tr>\n    <tr>\n      <th>50%</th>\n      <td>13.000000</td>\n      <td>0.000000</td>\n      <td>8.000000</td>\n      <td>9.500000</td>\n      <td>2016-09-06 03:37:49.500000</td>\n      <td>2023-07-01 22:06:38.500000</td>\n    </tr>\n    <tr>\n      <th>75%</th>\n      <td>37.250000</td>\n      <td>1.000000</td>\n      <td>27.750000</td>\n      <td>50.000000</td>\n      <td>2019-02-24 22:08:15.750000128</td>\n      <td>2023-07-21 23:04:04.500000</td>\n    </tr>\n    <tr>\n      <th>max</th>\n      <td>2448.000000</td>\n      <td>197.000000</td>\n      <td>980.000000</td>\n      <td>625.000000</td>\n      <td>2023-04-09 08:25:52</td>\n      <td>2023-08-05 14:17:11</td>\n    </tr>\n    <tr>\n      <th>std</th>\n      <td>268.088969</td>\n      <td>20.165667</td>\n      <td>116.730637</td>\n      <td>121.008555</td>\n      <td>NaN</td>\n      <td>NaN</td>\n    </tr>\n  </tbody>\n</table>\n</div>"
                    },
                    "metadata": {}
                }
            ],
            "outputs_reference": "s3:deepnote-cell-outputs-production/3e294450-d0c0-42aa-a128-41c671e73229",
            "content_dependencies": null
        },
        {
            "cell_type": "code",
            "metadata": {
                "source_hash": "8696daf5",
                "execution_start": 1745497296968,
                "execution_millis": 1,
                "execution_context_id": "653eebcc-ab87-4ccc-b912-e4f8ced4ce93",
                "cell_id": "2e078cc2e9ba4b42acafa2fafea65ad1",
                "deepnote_cell_type": "code"
            },
            "source": "# Find the top 5 actors with the highest number of public repositories\ntop_public_repos = df_2.nlargest(5, 'public_repos')[['login', 'name', 'public_repos']]\ntop_public_repos",
            "block_group": "8f800245f9814801835a7ecd837480b1",
            "execution_count": 76,
            "outputs": [
                {
                    "output_type": "execute_result",
                    "execution_count": 76,
                    "data": {
                        "application/vnd.deepnote.dataframe.v3+json": {
                            "column_count": 3,
                            "row_count": 5,
                            "columns": [
                                {
                                    "name": "login",
                                    "dtype": "object",
                                    "stats": {
                                        "unique_count": 5,
                                        "nan_count": 0,
                                        "categories": [
                                            {
                                                "name": "0xflotus",
                                                "count": 1
                                            },
                                            {
                                                "name": "0xqq",
                                                "count": 1
                                            },
                                            {
                                                "name": "3 others",
                                                "count": 3
                                            }
                                        ]
                                    }
                                },
                                {
                                    "name": "name",
                                    "dtype": "object",
                                    "stats": {
                                        "unique_count": 5,
                                        "nan_count": 0,
                                        "categories": [
                                            {
                                                "name": "0xflotus",
                                                "count": 1
                                            },
                                            {
                                                "name": "",
                                                "count": 1
                                            },
                                            {
                                                "name": "3 others",
                                                "count": 3
                                            }
                                        ]
                                    }
                                },
                                {
                                    "name": "public_repos",
                                    "dtype": "int64",
                                    "stats": {
                                        "unique_count": 5,
                                        "nan_count": 0,
                                        "min": "259",
                                        "max": "2448",
                                        "histogram": [
                                            {
                                                "bin_start": 259,
                                                "bin_end": 477.9,
                                                "count": 2
                                            },
                                            {
                                                "bin_start": 477.9,
                                                "bin_end": 696.8,
                                                "count": 1
                                            },
                                            {
                                                "bin_start": 696.8,
                                                "bin_end": 915.7,
                                                "count": 0
                                            },
                                            {
                                                "bin_start": 915.7,
                                                "bin_end": 1134.6,
                                                "count": 1
                                            },
                                            {
                                                "bin_start": 1134.6,
                                                "bin_end": 1353.5,
                                                "count": 0
                                            },
                                            {
                                                "bin_start": 1353.5,
                                                "bin_end": 1572.4,
                                                "count": 0
                                            },
                                            {
                                                "bin_start": 1572.4,
                                                "bin_end": 1791.3,
                                                "count": 0
                                            },
                                            {
                                                "bin_start": 1791.3,
                                                "bin_end": 2010.2,
                                                "count": 0
                                            },
                                            {
                                                "bin_start": 2010.2,
                                                "bin_end": 2229.1000000000004,
                                                "count": 0
                                            },
                                            {
                                                "bin_start": 2229.1000000000004,
                                                "bin_end": 2448,
                                                "count": 1
                                            }
                                        ]
                                    }
                                },
                                {
                                    "name": "_deepnote_index_column",
                                    "dtype": "int64"
                                }
                            ],
                            "rows": [
                                {
                                    "login": "0xflotus",
                                    "name": "0xflotus",
                                    "public_repos": 2448,
                                    "_deepnote_index_column": 55
                                },
                                {
                                    "login": "0xqq",
                                    "name": "",
                                    "public_repos": 951,
                                    "_deepnote_index_column": 59
                                },
                                {
                                    "login": "0xf4vul",
                                    "name": "oxf4vul",
                                    "public_repos": 630,
                                    "_deepnote_index_column": 52
                                },
                                {
                                    "login": "13567436138",
                                    "name": "huangxiaoping",
                                    "public_repos": 260,
                                    "_deepnote_index_column": 97
                                },
                                {
                                    "login": "0x00dec0de",
                                    "name": "Sukhorukov Olexandr",
                                    "public_repos": 259,
                                    "_deepnote_index_column": 33
                                }
                            ],
                            "type": "dataframe"
                        },
                        "text/plain": "          login                 name  public_repos\n55     0xflotus             0xflotus          2448\n59         0xqq                                951\n52      0xf4vul              oxf4vul           630\n97  13567436138        huangxiaoping           260\n33   0x00dec0de  Sukhorukov Olexandr           259",
                        "text/html": "<div>\n<style scoped>\n    .dataframe tbody tr th:only-of-type {\n        vertical-align: middle;\n    }\n\n    .dataframe tbody tr th {\n        vertical-align: top;\n    }\n\n    .dataframe thead th {\n        text-align: right;\n    }\n</style>\n<table border=\"1\" class=\"dataframe\">\n  <thead>\n    <tr style=\"text-align: right;\">\n      <th></th>\n      <th>login</th>\n      <th>name</th>\n      <th>public_repos</th>\n    </tr>\n  </thead>\n  <tbody>\n    <tr>\n      <th>55</th>\n      <td>0xflotus</td>\n      <td>0xflotus</td>\n      <td>2448</td>\n    </tr>\n    <tr>\n      <th>59</th>\n      <td>0xqq</td>\n      <td></td>\n      <td>951</td>\n    </tr>\n    <tr>\n      <th>52</th>\n      <td>0xf4vul</td>\n      <td>oxf4vul</td>\n      <td>630</td>\n    </tr>\n    <tr>\n      <th>97</th>\n      <td>13567436138</td>\n      <td>huangxiaoping</td>\n      <td>260</td>\n    </tr>\n    <tr>\n      <th>33</th>\n      <td>0x00dec0de</td>\n      <td>Sukhorukov Olexandr</td>\n      <td>259</td>\n    </tr>\n  </tbody>\n</table>\n</div>"
                    },
                    "metadata": {}
                }
            ],
            "outputs_reference": "s3:deepnote-cell-outputs-production/5af2c9d1-fa2e-445c-a71a-ffdc370ea85e",
            "content_dependencies": null
        },
        {
            "cell_type": "code",
            "metadata": {
                "source_hash": "4ad16f6b",
                "execution_start": 1745497302524,
                "execution_millis": 1,
                "execution_context_id": "653eebcc-ab87-4ccc-b912-e4f8ced4ce93",
                "cell_id": "652c6e32053044fdaf7c91571cfa58bb",
                "deepnote_cell_type": "code"
            },
            "source": "# Count the number of site_admins\nsite_admin_count = df_2['site_admin'].value_counts()\nsite_admin_count",
            "block_group": "3e69deba017a471b8f5737f07d7c799a",
            "execution_count": 79,
            "outputs": [
                {
                    "output_type": "execute_result",
                    "execution_count": 79,
                    "data": {
                        "text/plain": "site_admin\nfalse    100\nName: count, dtype: int64"
                    },
                    "metadata": {}
                }
            ],
            "outputs_reference": "dbtable:cell_outputs/c96930ab-c08b-44fe-9ad1-fbffbd146221",
            "content_dependencies": null
        },
        {
            "cell_type": "code",
            "metadata": {
                "source_hash": "ae4bc465",
                "execution_start": 1745497306263,
                "execution_millis": 1,
                "execution_context_id": "653eebcc-ab87-4ccc-b912-e4f8ced4ce93",
                "cell_id": "90bf71aa1dd7410ca6894d583f9cbc1f",
                "deepnote_cell_type": "code"
            },
            "source": "# Analyze the number of followers and list top 5 actors with the most followers\ntop_followers = df_2.nlargest(5, 'followers')[['login', 'name', 'followers']]\ntop_followers",
            "block_group": "c4ee7103c4e6485dbd9cc0aedcca3ddd",
            "execution_count": 82,
            "outputs": [
                {
                    "output_type": "execute_result",
                    "execution_count": 82,
                    "data": {
                        "application/vnd.deepnote.dataframe.v3+json": {
                            "column_count": 3,
                            "row_count": 5,
                            "columns": [
                                {
                                    "name": "login",
                                    "dtype": "object",
                                    "stats": {
                                        "unique_count": 5,
                                        "nan_count": 0,
                                        "categories": [
                                            {
                                                "name": "0l1v3rr",
                                                "count": 1
                                            },
                                            {
                                                "name": "100apps",
                                                "count": 1
                                            },
                                            {
                                                "name": "3 others",
                                                "count": 3
                                            }
                                        ]
                                    }
                                },
                                {
                                    "name": "name",
                                    "dtype": "object",
                                    "stats": {
                                        "unique_count": 5,
                                        "nan_count": 0,
                                        "categories": [
                                            {
                                                "name": "Olivér Mrakovics",
                                                "count": 1
                                            },
                                            {
                                                "name": "",
                                                "count": 1
                                            },
                                            {
                                                "name": "3 others",
                                                "count": 3
                                            }
                                        ]
                                    }
                                },
                                {
                                    "name": "followers",
                                    "dtype": "int64",
                                    "stats": {
                                        "unique_count": 5,
                                        "nan_count": 0,
                                        "min": "184",
                                        "max": "980",
                                        "histogram": [
                                            {
                                                "bin_start": 184,
                                                "bin_end": 263.6,
                                                "count": 1
                                            },
                                            {
                                                "bin_start": 263.6,
                                                "bin_end": 343.2,
                                                "count": 2
                                            },
                                            {
                                                "bin_start": 343.2,
                                                "bin_end": 422.79999999999995,
                                                "count": 0
                                            },
                                            {
                                                "bin_start": 422.79999999999995,
                                                "bin_end": 502.4,
                                                "count": 1
                                            },
                                            {
                                                "bin_start": 502.4,
                                                "bin_end": 582,
                                                "count": 0
                                            },
                                            {
                                                "bin_start": 582,
                                                "bin_end": 661.5999999999999,
                                                "count": 0
                                            },
                                            {
                                                "bin_start": 661.5999999999999,
                                                "bin_end": 741.1999999999999,
                                                "count": 0
                                            },
                                            {
                                                "bin_start": 741.1999999999999,
                                                "bin_end": 820.8,
                                                "count": 0
                                            },
                                            {
                                                "bin_start": 820.8,
                                                "bin_end": 900.4,
                                                "count": 0
                                            },
                                            {
                                                "bin_start": 900.4,
                                                "bin_end": 980,
                                                "count": 1
                                            }
                                        ]
                                    }
                                },
                                {
                                    "name": "_deepnote_index_column",
                                    "dtype": "int64"
                                }
                            ],
                            "rows": [
                                {
                                    "login": "0l1v3rr",
                                    "name": "Olivér Mrakovics",
                                    "followers": 980,
                                    "_deepnote_index_column": 21
                                },
                                {
                                    "login": "100apps",
                                    "name": "",
                                    "followers": 460,
                                    "_deepnote_index_column": 66
                                },
                                {
                                    "login": "0xflotus",
                                    "name": "0xflotus",
                                    "followers": 329,
                                    "_deepnote_index_column": 55
                                },
                                {
                                    "login": "101t",
                                    "name": "Tarek Kalaji",
                                    "followers": 321,
                                    "_deepnote_index_column": 68
                                },
                                {
                                    "login": "0neSe7en",
                                    "name": "WangSiyuan",
                                    "followers": 184,
                                    "_deepnote_index_column": 24
                                }
                            ],
                            "type": "dataframe"
                        },
                        "text/plain": "       login              name  followers\n21   0l1v3rr  Olivér Mrakovics        980\n66   100apps                          460\n55  0xflotus          0xflotus        329\n68      101t      Tarek Kalaji        321\n24  0neSe7en        WangSiyuan        184",
                        "text/html": "<div>\n<style scoped>\n    .dataframe tbody tr th:only-of-type {\n        vertical-align: middle;\n    }\n\n    .dataframe tbody tr th {\n        vertical-align: top;\n    }\n\n    .dataframe thead th {\n        text-align: right;\n    }\n</style>\n<table border=\"1\" class=\"dataframe\">\n  <thead>\n    <tr style=\"text-align: right;\">\n      <th></th>\n      <th>login</th>\n      <th>name</th>\n      <th>followers</th>\n    </tr>\n  </thead>\n  <tbody>\n    <tr>\n      <th>21</th>\n      <td>0l1v3rr</td>\n      <td>Olivér Mrakovics</td>\n      <td>980</td>\n    </tr>\n    <tr>\n      <th>66</th>\n      <td>100apps</td>\n      <td></td>\n      <td>460</td>\n    </tr>\n    <tr>\n      <th>55</th>\n      <td>0xflotus</td>\n      <td>0xflotus</td>\n      <td>329</td>\n    </tr>\n    <tr>\n      <th>68</th>\n      <td>101t</td>\n      <td>Tarek Kalaji</td>\n      <td>321</td>\n    </tr>\n    <tr>\n      <th>24</th>\n      <td>0neSe7en</td>\n      <td>WangSiyuan</td>\n      <td>184</td>\n    </tr>\n  </tbody>\n</table>\n</div>"
                    },
                    "metadata": {}
                }
            ],
            "outputs_reference": "s3:deepnote-cell-outputs-production/17dff398-6db0-42f7-8a62-f9b10937a733",
            "content_dependencies": null
        },
        {
            "cell_type": "code",
            "metadata": {
                "source_hash": "d5789f03",
                "execution_start": 1745497310123,
                "execution_millis": 1,
                "execution_context_id": "653eebcc-ab87-4ccc-b912-e4f8ced4ce93",
                "cell_id": "c4405a2caa90456ca9951526abcf5812",
                "deepnote_cell_type": "code"
            },
            "source": "# Analyze actors' locations and get the top 5 locations by actor count\ntop_locations = df_2['location'].value_counts().head(5)\ntop_locations",
            "block_group": "af7a4ad9a1e3410795742449f9445b63",
            "execution_count": 85,
            "outputs": [
                {
                    "output_type": "execute_result",
                    "execution_count": 85,
                    "data": {
                        "text/plain": "location\n           52\nMoscow      2\nchina       2\nBeijing     2\nChina       2\nName: count, dtype: int64"
                    },
                    "metadata": {}
                }
            ],
            "outputs_reference": "dbtable:cell_outputs/8a7447fc-9ddd-4e9c-8393-952bde240ac5",
            "content_dependencies": null
        },
        {
            "cell_type": "code",
            "metadata": {
                "source_hash": "484751a5",
                "execution_start": 1745497312555,
                "execution_millis": 1,
                "execution_context_id": "653eebcc-ab87-4ccc-b912-e4f8ced4ce93",
                "cell_id": "2a2cb234339e4077a876cc3071f3997a",
                "deepnote_cell_type": "code"
            },
            "source": "# Analyze the Twitter activity by counting non-null Twitter usernames in the dataset\nnon_null_twitter_count = df_2['twitter_username'].notnull().sum()\nnon_null_twitter_count",
            "block_group": "4b223be87ec14eb093c3620e83af2835",
            "execution_count": 88,
            "outputs": [
                {
                    "output_type": "execute_result",
                    "execution_count": 88,
                    "data": {
                        "text/plain": "100"
                    },
                    "metadata": {}
                }
            ],
            "outputs_reference": "dbtable:cell_outputs/0dfbff8c-b269-4e15-85d6-0ceb5bc25787",
            "content_dependencies": null
        },
        {
            "cell_type": "code",
            "metadata": {
                "source_hash": "bb5609c",
                "execution_start": 1745497313894,
                "execution_millis": 1,
                "execution_context_id": "653eebcc-ab87-4ccc-b912-e4f8ced4ce93",
                "cell_id": "02c5a0c66e1e40699d2e0229545b44f2",
                "deepnote_cell_type": "code"
            },
            "source": "# Calculate the time difference since the account was last updated\nimport datetime\ndf_2['days_since_updated'] = (datetime.datetime.now() - df_2['updated_at']).dt.days\ndf_2[['login', 'updated_at', 'days_since_updated']].head()",
            "block_group": "654726f9427445ce88e551f8af4d2a68",
            "execution_count": 91,
            "outputs": [
                {
                    "output_type": "execute_result",
                    "execution_count": 91,
                    "data": {
                        "application/vnd.deepnote.dataframe.v3+json": {
                            "column_count": 3,
                            "row_count": 5,
                            "columns": [
                                {
                                    "name": "login",
                                    "dtype": "object",
                                    "stats": {
                                        "unique_count": 5,
                                        "nan_count": 0,
                                        "categories": [
                                            {
                                                "name": "0000Blaze",
                                                "count": 1
                                            },
                                            {
                                                "name": "007developforfun",
                                                "count": 1
                                            },
                                            {
                                                "name": "3 others",
                                                "count": 3
                                            }
                                        ]
                                    }
                                },
                                {
                                    "name": "updated_at",
                                    "dtype": "datetime64[ns]",
                                    "stats": {
                                        "unique_count": 5,
                                        "nan_count": 0,
                                        "min": "2022-08-12 08:45:30",
                                        "max": "2023-07-30 11:30:14",
                                        "histogram": [
                                            {
                                                "bin_start": 1660293930000000000,
                                                "bin_end": 1663336198400000000,
                                                "count": 1
                                            },
                                            {
                                                "bin_start": 1663336198400000000,
                                                "bin_end": 1666378466800000000,
                                                "count": 0
                                            },
                                            {
                                                "bin_start": 1666378466800000000,
                                                "bin_end": 1669420735200000000,
                                                "count": 0
                                            },
                                            {
                                                "bin_start": 1669420735200000000,
                                                "bin_end": 1672463003600000000,
                                                "count": 0
                                            },
                                            {
                                                "bin_start": 1672463003600000000,
                                                "bin_end": 1675505272000000000,
                                                "count": 0
                                            },
                                            {
                                                "bin_start": 1675505272000000000,
                                                "bin_end": 1678547540400000000,
                                                "count": 0
                                            },
                                            {
                                                "bin_start": 1678547540400000000,
                                                "bin_end": 1681589808800000000,
                                                "count": 1
                                            },
                                            {
                                                "bin_start": 1681589808800000000,
                                                "bin_end": 1684632077200000000,
                                                "count": 0
                                            },
                                            {
                                                "bin_start": 1684632077200000000,
                                                "bin_end": 1687674345600000000,
                                                "count": 1
                                            },
                                            {
                                                "bin_start": 1687674345600000000,
                                                "bin_end": 1690716614000000000,
                                                "count": 2
                                            }
                                        ]
                                    }
                                },
                                {
                                    "name": "days_since_updated",
                                    "dtype": "int64",
                                    "stats": {
                                        "unique_count": 5,
                                        "nan_count": 0,
                                        "min": "634",
                                        "max": "986",
                                        "histogram": [
                                            {
                                                "bin_start": 634,
                                                "bin_end": 669.2,
                                                "count": 2
                                            },
                                            {
                                                "bin_start": 669.2,
                                                "bin_end": 704.4,
                                                "count": 1
                                            },
                                            {
                                                "bin_start": 704.4,
                                                "bin_end": 739.6,
                                                "count": 0
                                            },
                                            {
                                                "bin_start": 739.6,
                                                "bin_end": 774.8,
                                                "count": 1
                                            },
                                            {
                                                "bin_start": 774.8,
                                                "bin_end": 810,
                                                "count": 0
                                            },
                                            {
                                                "bin_start": 810,
                                                "bin_end": 845.2,
                                                "count": 0
                                            },
                                            {
                                                "bin_start": 845.2,
                                                "bin_end": 880.4000000000001,
                                                "count": 0
                                            },
                                            {
                                                "bin_start": 880.4000000000001,
                                                "bin_end": 915.6,
                                                "count": 0
                                            },
                                            {
                                                "bin_start": 915.6,
                                                "bin_end": 950.8,
                                                "count": 0
                                            },
                                            {
                                                "bin_start": 950.8,
                                                "bin_end": 986,
                                                "count": 1
                                            }
                                        ]
                                    }
                                },
                                {
                                    "name": "_deepnote_index_column",
                                    "dtype": "int64"
                                }
                            ],
                            "rows": [
                                {
                                    "login": "0000Blaze",
                                    "updated_at": "2023-07-30 11:30:14",
                                    "days_since_updated": 634,
                                    "_deepnote_index_column": 0
                                },
                                {
                                    "login": "007developforfun",
                                    "updated_at": "2022-08-12 08:45:30",
                                    "days_since_updated": 986,
                                    "_deepnote_index_column": 1
                                },
                                {
                                    "login": "00arthur00",
                                    "updated_at": "2023-06-15 14:50:12",
                                    "days_since_updated": 678,
                                    "_deepnote_index_column": 2
                                },
                                {
                                    "login": "010001",
                                    "updated_at": "2023-03-17 06:07:01",
                                    "days_since_updated": 769,
                                    "_deepnote_index_column": 3
                                },
                                {
                                    "login": "01001101ilad",
                                    "updated_at": "2023-07-24 11:43:03",
                                    "days_since_updated": 640,
                                    "_deepnote_index_column": 4
                                }
                            ],
                            "type": "dataframe"
                        },
                        "text/plain": "              login          updated_at  days_since_updated\n0         0000Blaze 2023-07-30 11:30:14                 634\n1  007developforfun 2022-08-12 08:45:30                 986\n2        00arthur00 2023-06-15 14:50:12                 678\n3            010001 2023-03-17 06:07:01                 769\n4      01001101ilad 2023-07-24 11:43:03                 640",
                        "text/html": "<div>\n<style scoped>\n    .dataframe tbody tr th:only-of-type {\n        vertical-align: middle;\n    }\n\n    .dataframe tbody tr th {\n        vertical-align: top;\n    }\n\n    .dataframe thead th {\n        text-align: right;\n    }\n</style>\n<table border=\"1\" class=\"dataframe\">\n  <thead>\n    <tr style=\"text-align: right;\">\n      <th></th>\n      <th>login</th>\n      <th>updated_at</th>\n      <th>days_since_updated</th>\n    </tr>\n  </thead>\n  <tbody>\n    <tr>\n      <th>0</th>\n      <td>0000Blaze</td>\n      <td>2023-07-30 11:30:14</td>\n      <td>634</td>\n    </tr>\n    <tr>\n      <th>1</th>\n      <td>007developforfun</td>\n      <td>2022-08-12 08:45:30</td>\n      <td>986</td>\n    </tr>\n    <tr>\n      <th>2</th>\n      <td>00arthur00</td>\n      <td>2023-06-15 14:50:12</td>\n      <td>678</td>\n    </tr>\n    <tr>\n      <th>3</th>\n      <td>010001</td>\n      <td>2023-03-17 06:07:01</td>\n      <td>769</td>\n    </tr>\n    <tr>\n      <th>4</th>\n      <td>01001101ilad</td>\n      <td>2023-07-24 11:43:03</td>\n      <td>640</td>\n    </tr>\n  </tbody>\n</table>\n</div>"
                    },
                    "metadata": {}
                }
            ],
            "outputs_reference": "s3:deepnote-cell-outputs-production/2e698625-2aaa-40d6-85aa-0524f4cded81",
            "content_dependencies": null
        },
        {
            "cell_type": "markdown",
            "metadata": {
                "color": "purple",
                "formattedRanges": [],
                "cell_id": "428594ea51e84287a96f1cb0e4ffa189",
                "deepnote_cell_type": "text-cell-callout"
            },
            "source": "> Create visualization from it ",
            "block_group": "6c4115ba7a27473bb72264abacd57bb7"
        },
        {
            "cell_type": "code",
            "metadata": {
                "source_hash": "6e7a8ef8",
                "execution_start": 1745497328213,
                "execution_millis": 870,
                "execution_context_id": "653eebcc-ab87-4ccc-b912-e4f8ced4ce93",
                "cell_id": "2fa920c07165474e918fcfcb94a1a150",
                "deepnote_cell_type": "code"
            },
            "source": "# Visualize the top 5 locations with the highest actor counts\nimport matplotlib.pyplot as plt\n\ntop_locations.plot(kind='bar', figsize=(10, 6), color='skyblue')\nplt.title('Top 5 Actor Locations by Count')\nplt.xlabel('Location')\nplt.ylabel('Number of Actors')\nplt.xticks(rotation=45)\nplt.show()",
            "block_group": "8a54d9035e71414580096aba4037d8f5",
            "execution_count": 94,
            "outputs": [
                {
                    "data": {
                        "text/plain": "<Figure size 1000x600 with 1 Axes>",
                        "image/png": "[encoded data removed]"
                    },
                    "metadata": {
                        "image/png": {
                            "width": 841,
                            "height": 582
                        }
                    },
                    "output_type": "display_data"
                }
            ],
            "outputs_reference": "s3:deepnote-cell-outputs-production/dd4d7ee0-a841-456d-aaf6-b39f39387a89",
            "content_dependencies": null
        },
        {
            "cell_type": "markdown",
            "source": "<a style='text-decoration:none;line-height:16px;display:flex;color:#5B5B62;padding:10px;justify-content:end;' href='https://deepnote.com?utm_source=created-in-deepnote-cell&projectId=82e7f9be-6f67-43bd-9e5b-eeed4a78f235' target=\"_blank\">\n<img alt='Created in deepnote.com' style='display:inline;max-height:16px;margin:0px;margin-right:7.5px;' src='data:image/svg+xml;base64,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' > </img>\nCreated in <span style='font-weight:600;margin-left:4px;'>Deepnote</span></a>",
            "metadata": {
                "created_in_deepnote_cell": true,
                "deepnote_cell_type": "markdown"
            }
        }
    ],
    "nbformat": 4,
    "nbformat_minor": 0,
    "metadata": {
        "deepnote_notebook_id": "31e215580d4744b7bb26af462d764bec"
    }
}